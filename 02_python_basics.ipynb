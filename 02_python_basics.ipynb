{
  "nbformat": 4,
  "nbformat_minor": 0,
  "metadata": {
    "colab": {
      "name": "02_python_basics.ipynb",
      "provenance": [],
      "collapsed_sections": []
    },
    "kernelspec": {
      "name": "python3",
      "display_name": "Python 3"
    },
    "language_info": {
      "name": "python"
    }
  },
  "cells": [
    {
      "cell_type": "markdown",
      "source": [
        "# List"
      ],
      "metadata": {
        "id": "b0YwS_XMUn4x"
      }
    },
    {
      "cell_type": "code",
      "source": [
        "liste_man = [2, 4, 6, 8, 10]\n",
        "liste_man"
      ],
      "metadata": {
        "colab": {
          "base_uri": "https://localhost:8080/"
        },
        "id": "UQdWP6wjWHne",
        "outputId": "a83f97de-eda5-4b8f-fb55-084fccc51f55"
      },
      "execution_count": null,
      "outputs": [
        {
          "output_type": "execute_result",
          "data": {
            "text/plain": [
              "[2, 4, 6, 8, 10]"
            ]
          },
          "metadata": {},
          "execution_count": 1
        }
      ]
    },
    {
      "cell_type": "code",
      "source": [
        "# Type liste_man ro check konim\n",
        "type(liste_man)"
      ],
      "metadata": {
        "colab": {
          "base_uri": "https://localhost:8080/"
        },
        "id": "1HOYec8pWPJT",
        "outputId": "da4f1385-be9b-4a71-d030-5e38f6708aea"
      },
      "execution_count": null,
      "outputs": [
        {
          "output_type": "execute_result",
          "data": {
            "text/plain": [
              "list"
            ]
          },
          "metadata": {},
          "execution_count": 2
        }
      ]
    },
    {
      "cell_type": "code",
      "source": [
        "# length esh chie\n",
        "len(liste_man)"
      ],
      "metadata": {
        "colab": {
          "base_uri": "https://localhost:8080/"
        },
        "id": "2hjgnrTNWXxr",
        "outputId": "d9a517dd-c9aa-47c6-a25f-9ea550c35209"
      },
      "execution_count": null,
      "outputs": [
        {
          "output_type": "execute_result",
          "data": {
            "text/plain": [
              "5"
            ]
          },
          "metadata": {},
          "execution_count": 3
        }
      ]
    },
    {
      "cell_type": "code",
      "source": [
        "# Mitoonin oon ro dar yek adad zarb konin\n",
        "liste_man * 2"
      ],
      "metadata": {
        "colab": {
          "base_uri": "https://localhost:8080/"
        },
        "id": "nD7wslY6WbJ8",
        "outputId": "e8b099c8-7812-480d-b9d8-b198f26a6365"
      },
      "execution_count": null,
      "outputs": [
        {
          "output_type": "execute_result",
          "data": {
            "text/plain": [
              "[2, 4, 6, 8, 10, 2, 4, 6, 8, 10]"
            ]
          },
          "metadata": {},
          "execution_count": 4
        }
      ]
    },
    {
      "cell_type": "code",
      "source": [
        "# Mitoonin dota list ro baham jam konim\n",
        "liste_jadid = [1, 1, 1, 1, 1]\n",
        "liste_akhar = liste_man + liste_jadid\n",
        "liste_akhar"
      ],
      "metadata": {
        "colab": {
          "base_uri": "https://localhost:8080/"
        },
        "id": "iK-bnL_-Wh0H",
        "outputId": "6b43071b-5540-4611-988b-d337cea946b8"
      },
      "execution_count": null,
      "outputs": [
        {
          "output_type": "execute_result",
          "data": {
            "text/plain": [
              "[2, 4, 6, 8, 10, 1, 1, 1, 1, 1]"
            ]
          },
          "metadata": {},
          "execution_count": 5
        }
      ]
    },
    {
      "cell_type": "code",
      "source": [
        "# yek list besazim ke khodesh dakhekelsh list hast\n",
        "name_list = [['ali', 'fateme', 'peyman'], [19, 20, 24]]\n",
        "name_list"
      ],
      "metadata": {
        "colab": {
          "base_uri": "https://localhost:8080/"
        },
        "id": "2xkX44ldW1iJ",
        "outputId": "80b7e2fd-10ba-4fe7-cb88-b8275feaa046"
      },
      "execution_count": null,
      "outputs": [
        {
          "output_type": "execute_result",
          "data": {
            "text/plain": [
              "[['ali', 'fateme', 'peyman'], [19, 20, 24]]"
            ]
          },
          "metadata": {},
          "execution_count": 6
        }
      ]
    },
    {
      "cell_type": "code",
      "source": [
        "# length in listo bebinam\n",
        "len(name_list)"
      ],
      "metadata": {
        "colab": {
          "base_uri": "https://localhost:8080/"
        },
        "id": "d0W3NjcJXEmW",
        "outputId": "7b1f1d42-2f56-4d21-a8da-05e961b761f2"
      },
      "execution_count": null,
      "outputs": [
        {
          "output_type": "execute_result",
          "data": {
            "text/plain": [
              "2"
            ]
          },
          "metadata": {},
          "execution_count": 7
        }
      ]
    },
    {
      "cell_type": "markdown",
      "source": [
        "## indexing"
      ],
      "metadata": {
        "id": "IIHVjuuVXOnT"
      }
    },
    {
      "cell_type": "code",
      "source": [
        "# Bebinim ke index 0 va 1 tooye in list chi hastesh\n",
        "name_list[0][1]"
      ],
      "metadata": {
        "colab": {
          "base_uri": "https://localhost:8080/",
          "height": 35
        },
        "id": "cSQ0ql8mXR_2",
        "outputId": "5ebce1ce-4fee-4847-8d7b-f476466a29c6"
      },
      "execution_count": null,
      "outputs": [
        {
          "output_type": "execute_result",
          "data": {
            "text/plain": [
              "'fateme'"
            ],
            "application/vnd.google.colaboratory.intrinsic+json": {
              "type": "string"
            }
          },
          "metadata": {},
          "execution_count": 9
        }
      ]
    },
    {
      "cell_type": "markdown",
      "source": [
        "> agar yek ja eshtebah bokonim ma mitoonim list hamoon ro taghir bedim va oonaro update konim"
      ],
      "metadata": {
        "id": "UeGEjSJAXr43"
      }
    },
    {
      "cell_type": "code",
      "source": [
        "name_list"
      ],
      "metadata": {
        "colab": {
          "base_uri": "https://localhost:8080/"
        },
        "id": "MT_zyVgEX57k",
        "outputId": "a8ba29de-7718-4ec6-f82a-30c87d190d07"
      },
      "execution_count": null,
      "outputs": [
        {
          "output_type": "execute_result",
          "data": {
            "text/plain": [
              "[['ali', 'fateme', 'peyman'], [19, 20, 24]]"
            ]
          },
          "metadata": {},
          "execution_count": 10
        }
      ]
    },
    {
      "cell_type": "code",
      "source": [
        "# Oomadim va bejaye esme ali mohamad ro gozashim\n",
        "name_list[0][0] = 'mohamad'"
      ],
      "metadata": {
        "id": "AQOyW70eX6xF"
      },
      "execution_count": null,
      "outputs": []
    },
    {
      "cell_type": "code",
      "source": [
        "name_list"
      ],
      "metadata": {
        "colab": {
          "base_uri": "https://localhost:8080/"
        },
        "id": "xx7HT5sEYB3u",
        "outputId": "fca3490c-4182-4a0d-82f9-9ee0713cc030"
      },
      "execution_count": null,
      "outputs": [
        {
          "output_type": "execute_result",
          "data": {
            "text/plain": [
              "[['mohamad', 'fateme', 'peyman'], [19, 20, 24]]"
            ]
          },
          "metadata": {},
          "execution_count": 13
        }
      ]
    },
    {
      "cell_type": "markdown",
      "source": [
        "## .append(x)\n",
        "\n",
        "vaghti ke ma miam az append estefade mikonim dar asl be akhare yek list yechizi ezafe mikonim"
      ],
      "metadata": {
        "id": "Xdmcswl9YIfQ"
      }
    },
    {
      "cell_type": "code",
      "source": [
        "# Biaim be komake in append be akhare listemoon yechizi ezafe konim\n",
        "name_list.append(['tehran', 'mashhad', 'gorgan'])\n",
        "name_list"
      ],
      "metadata": {
        "colab": {
          "base_uri": "https://localhost:8080/"
        },
        "id": "rhUkZX5lYWq2",
        "outputId": "80af1cd8-0895-43ce-cd19-3442d5b4095e"
      },
      "execution_count": null,
      "outputs": [
        {
          "output_type": "execute_result",
          "data": {
            "text/plain": [
              "[['mohamad', 'fateme', 'peyman'],\n",
              " [19, 20, 24],\n",
              " ['tehran', 'mashhad', 'gorgan']]"
            ]
          },
          "metadata": {},
          "execution_count": 14
        }
      ]
    },
    {
      "cell_type": "code",
      "source": [
        "name_list.append(2)\n",
        "name_list"
      ],
      "metadata": {
        "colab": {
          "base_uri": "https://localhost:8080/"
        },
        "id": "W-67dw3pYoAW",
        "outputId": "ba518db0-76d1-40e6-8edf-4d8f4683d2d3"
      },
      "execution_count": null,
      "outputs": [
        {
          "output_type": "execute_result",
          "data": {
            "text/plain": [
              "[['mohamad', 'fateme', 'peyman'],\n",
              " [19, 20, 24],\n",
              " ['tehran', 'mashhad', 'gorgan'],\n",
              " 2]"
            ]
          },
          "metadata": {},
          "execution_count": 15
        }
      ]
    },
    {
      "cell_type": "code",
      "source": [
        "# biaim bebinim hala len cheghade\n",
        "len(name_list)"
      ],
      "metadata": {
        "colab": {
          "base_uri": "https://localhost:8080/"
        },
        "id": "lNdNTV7CY2BO",
        "outputId": "8676c008-9c40-4f82-e23d-2e0daff99402"
      },
      "execution_count": null,
      "outputs": [
        {
          "output_type": "execute_result",
          "data": {
            "text/plain": [
              "4"
            ]
          },
          "metadata": {},
          "execution_count": 16
        }
      ]
    },
    {
      "cell_type": "code",
      "source": [
        "name_list[2][1]"
      ],
      "metadata": {
        "colab": {
          "base_uri": "https://localhost:8080/",
          "height": 35
        },
        "id": "gC3RxSXxY8vt",
        "outputId": "21a69cec-f65a-4388-a050-130f48e19193"
      },
      "execution_count": null,
      "outputs": [
        {
          "output_type": "execute_result",
          "data": {
            "text/plain": [
              "'mashhad'"
            ],
            "application/vnd.google.colaboratory.intrinsic+json": {
              "type": "string"
            }
          },
          "metadata": {},
          "execution_count": 18
        }
      ]
    },
    {
      "cell_type": "markdown",
      "source": [
        "## .insert(i, x)\n",
        "\n",
        "yani miaim behesh migim ke object x ro yejoori tooye list gharar bede ke index esh i beshe"
      ],
      "metadata": {
        "id": "C04fcVAuY_Fp"
      }
    },
    {
      "cell_type": "code",
      "source": [
        "# liste jadid besazim\n",
        "liste_adad = [1, 2, 3, 4, 5, 6]\n",
        "liste_adad"
      ],
      "metadata": {
        "colab": {
          "base_uri": "https://localhost:8080/"
        },
        "id": "sJH2bYHrZOXl",
        "outputId": "460dbfee-4bbe-4780-9d76-e38a5e88aaee"
      },
      "execution_count": null,
      "outputs": [
        {
          "output_type": "execute_result",
          "data": {
            "text/plain": [
              "[1, 2, 3, 4, 5, 6]"
            ]
          },
          "metadata": {},
          "execution_count": 19
        }
      ]
    },
    {
      "cell_type": "code",
      "source": [
        "# biaim x ro behesh tooye index e 5 ezafe konim\n",
        "liste_adad.insert(5, 'x')"
      ],
      "metadata": {
        "id": "azEJHtu7ZTW-"
      },
      "execution_count": null,
      "outputs": []
    },
    {
      "cell_type": "code",
      "source": [
        "# Bebinim che taghiri kard\n",
        "liste_adad"
      ],
      "metadata": {
        "colab": {
          "base_uri": "https://localhost:8080/"
        },
        "id": "383I9jpbZiF0",
        "outputId": "406db9b9-8736-4a30-807f-b63e07e5e5c7"
      },
      "execution_count": null,
      "outputs": [
        {
          "output_type": "execute_result",
          "data": {
            "text/plain": [
              "[1, 2, 3, 4, 5, 'x', 6]"
            ]
          },
          "metadata": {},
          "execution_count": 22
        }
      ]
    },
    {
      "cell_type": "code",
      "source": [
        "# Be avale list biaim y ro ezafe konim\n",
        "liste_adad.insert(0, 'y')\n",
        "liste_adad"
      ],
      "metadata": {
        "colab": {
          "base_uri": "https://localhost:8080/"
        },
        "id": "mY87H-2zZphL",
        "outputId": "f46b4425-33fc-4d38-ab7e-a2e96ecb331d"
      },
      "execution_count": null,
      "outputs": [
        {
          "output_type": "execute_result",
          "data": {
            "text/plain": [
              "['y', 1, 2, 3, 4, 5, 'x', 6]"
            ]
          },
          "metadata": {},
          "execution_count": 23
        }
      ]
    },
    {
      "cell_type": "code",
      "source": [
        "# biaim be komake insert append ro benvisim\n",
        "liste_adad.insert(len(liste_adad), 'z')\n",
        "liste_adad"
      ],
      "metadata": {
        "colab": {
          "base_uri": "https://localhost:8080/"
        },
        "id": "Ay1QDsGPZ34o",
        "outputId": "281fc5a0-fdd0-444d-bf63-3fc6584466cb"
      },
      "execution_count": null,
      "outputs": [
        {
          "output_type": "execute_result",
          "data": {
            "text/plain": [
              "['y', 1, 2, 3, 4, 5, 'x', 6, 'z']"
            ]
          },
          "metadata": {},
          "execution_count": 24
        }
      ]
    },
    {
      "cell_type": "markdown",
      "source": [
        "## .index(x, [start, [end]])"
      ],
      "metadata": {
        "id": "FQU27mRhaMns"
      }
    },
    {
      "cell_type": "code",
      "source": [
        "# Biaim bebinim index e 'x' chande\n",
        "liste_adad.index('x')"
      ],
      "metadata": {
        "colab": {
          "base_uri": "https://localhost:8080/"
        },
        "id": "WnTCBIe7atk9",
        "outputId": "fc6a44b6-7fc4-48a3-ce63-bc7ca9d16ec1"
      },
      "execution_count": null,
      "outputs": [
        {
          "output_type": "execute_result",
          "data": {
            "text/plain": [
              "6"
            ]
          },
          "metadata": {},
          "execution_count": 26
        }
      ]
    },
    {
      "cell_type": "code",
      "source": [
        "# Hala ba baze behesh begim\n",
        "liste_adad.index('x', 2, 7)"
      ],
      "metadata": {
        "colab": {
          "base_uri": "https://localhost:8080/"
        },
        "id": "fbbSaKrUa3Mj",
        "outputId": "93397a24-849e-4f62-dac9-97127ef63c68"
      },
      "execution_count": null,
      "outputs": [
        {
          "output_type": "execute_result",
          "data": {
            "text/plain": [
              "6"
            ]
          },
          "metadata": {},
          "execution_count": 30
        }
      ]
    },
    {
      "cell_type": "code",
      "source": [
        "liste_adad.index('y')"
      ],
      "metadata": {
        "colab": {
          "base_uri": "https://localhost:8080/"
        },
        "id": "QmkrX1wLbRLc",
        "outputId": "350c8c0b-ec76-4e96-8ff7-5c2ba984f025"
      },
      "execution_count": null,
      "outputs": [
        {
          "output_type": "execute_result",
          "data": {
            "text/plain": [
              "0"
            ]
          },
          "metadata": {},
          "execution_count": 32
        }
      ]
    },
    {
      "cell_type": "markdown",
      "source": [
        "## .count(x)\n",
        "\n",
        "miad va mishmore ke yek object i ke goftim chan bar tooye listemoon tekrar shode"
      ],
      "metadata": {
        "id": "1cTq1Q8ubrga"
      }
    },
    {
      "cell_type": "code",
      "source": [
        "liste_adad.append('z')\n",
        "liste_adad"
      ],
      "metadata": {
        "colab": {
          "base_uri": "https://localhost:8080/"
        },
        "id": "2Ss1KcGub5tm",
        "outputId": "e6ffc0a0-821d-45eb-cbdb-e9e8c911db32"
      },
      "execution_count": null,
      "outputs": [
        {
          "output_type": "execute_result",
          "data": {
            "text/plain": [
              "['y', 1, 2, 3, 4, 5, 'x', 6, 'z', 'z']"
            ]
          },
          "metadata": {},
          "execution_count": 34
        }
      ]
    },
    {
      "cell_type": "code",
      "source": [
        "# biaim va beshmorim ke chanbar 'z' tooye list tekrar shode\n",
        "liste_adad.count('z')"
      ],
      "metadata": {
        "colab": {
          "base_uri": "https://localhost:8080/"
        },
        "id": "iFwRi-31b6jp",
        "outputId": "6d422017-8359-4fe2-b586-505198de2b3f"
      },
      "execution_count": null,
      "outputs": [
        {
          "output_type": "execute_result",
          "data": {
            "text/plain": [
              "2"
            ]
          },
          "metadata": {},
          "execution_count": 36
        }
      ]
    },
    {
      "cell_type": "code",
      "source": [
        "liste_adad.count(1)"
      ],
      "metadata": {
        "colab": {
          "base_uri": "https://localhost:8080/"
        },
        "id": "KyRB0IXpcDZx",
        "outputId": "c9be4713-6e67-4654-cb1d-26774f3d98de"
      },
      "execution_count": null,
      "outputs": [
        {
          "output_type": "execute_result",
          "data": {
            "text/plain": [
              "1"
            ]
          },
          "metadata": {},
          "execution_count": 37
        }
      ]
    },
    {
      "cell_type": "markdown",
      "source": [
        "## .remove(x)\n",
        "\n",
        "miad tooye list migarde va avalin object i ke barabar ba oon chizi ke khastim hast ro remove mikone"
      ],
      "metadata": {
        "id": "RTN-7UdscK0a"
      }
    },
    {
      "cell_type": "code",
      "source": [
        "# Bebinim che darim\n",
        "liste_adad"
      ],
      "metadata": {
        "colab": {
          "base_uri": "https://localhost:8080/"
        },
        "id": "ILU6yezbcaBc",
        "outputId": "91410e26-fc61-41ca-d352-91adeb512f28"
      },
      "execution_count": null,
      "outputs": [
        {
          "output_type": "execute_result",
          "data": {
            "text/plain": [
              "['y', 1, 2, 3, 4, 5, 'x', 6, 'z', 'z']"
            ]
          },
          "metadata": {},
          "execution_count": 38
        }
      ]
    },
    {
      "cell_type": "code",
      "source": [
        "# Yekam listemoon ro update konim\n",
        "liste_adad.insert(3, 1)"
      ],
      "metadata": {
        "id": "1Y_ynR3YclKv"
      },
      "execution_count": null,
      "outputs": []
    },
    {
      "cell_type": "code",
      "source": [
        "# liste adad ro check konim\n",
        "liste_adad"
      ],
      "metadata": {
        "colab": {
          "base_uri": "https://localhost:8080/"
        },
        "id": "s6Y7aILNcsYb",
        "outputId": "da2db857-e6e5-4340-967d-0781f5f5cbfd"
      },
      "execution_count": null,
      "outputs": [
        {
          "output_type": "execute_result",
          "data": {
            "text/plain": [
              "['y', 1, 2, 1, 3, 4, 5, 'x', 6, 'z', 'z']"
            ]
          },
          "metadata": {},
          "execution_count": 40
        }
      ]
    },
    {
      "cell_type": "code",
      "source": [
        "# Biaim ye chizi ro remove konim\n",
        "liste_adad.remove(1)\n",
        "liste_adad"
      ],
      "metadata": {
        "colab": {
          "base_uri": "https://localhost:8080/"
        },
        "id": "VII00Gt2cZ9D",
        "outputId": "ebb85f71-8e1a-497c-8297-ba174b8c9510"
      },
      "execution_count": null,
      "outputs": [
        {
          "output_type": "execute_result",
          "data": {
            "text/plain": [
              "['y', 2, 1, 3, 4, 5, 'x', 6, 'z', 'z']"
            ]
          },
          "metadata": {},
          "execution_count": 41
        }
      ]
    },
    {
      "cell_type": "code",
      "source": [
        "len(liste_adad)"
      ],
      "metadata": {
        "colab": {
          "base_uri": "https://localhost:8080/"
        },
        "id": "Qq5xd5fxdLh8",
        "outputId": "cc469cae-cc15-434c-e620-28e142d6cc2a"
      },
      "execution_count": null,
      "outputs": [
        {
          "output_type": "execute_result",
          "data": {
            "text/plain": [
              "10"
            ]
          },
          "metadata": {},
          "execution_count": 42
        }
      ]
    },
    {
      "cell_type": "code",
      "source": [
        "# biaim yechizi beyne z ha gharar bedim\n",
        "liste_adad.insert((len(liste_adad) - 1), 'n')\n",
        "liste_adad"
      ],
      "metadata": {
        "colab": {
          "base_uri": "https://localhost:8080/"
        },
        "id": "SH6UmtyVc5OV",
        "outputId": "014fcb32-fc1c-4d2d-99dc-806100a28627"
      },
      "execution_count": null,
      "outputs": [
        {
          "output_type": "execute_result",
          "data": {
            "text/plain": [
              "['y', 2, 1, 3, 4, 5, 'x', 6, 'z', 'n', 'z']"
            ]
          },
          "metadata": {},
          "execution_count": 43
        }
      ]
    },
    {
      "cell_type": "code",
      "source": [
        "# Biaim va yek z ro hazf konim\n",
        "liste_adad.remove('z')\n",
        "liste_adad"
      ],
      "metadata": {
        "colab": {
          "base_uri": "https://localhost:8080/"
        },
        "id": "3dSR4KVWdWcD",
        "outputId": "f8818095-5404-454e-fb49-42254025ee8d"
      },
      "execution_count": null,
      "outputs": [
        {
          "output_type": "execute_result",
          "data": {
            "text/plain": [
              "['y', 2, 1, 3, 4, 5, 'x', 6, 'n', 'z']"
            ]
          },
          "metadata": {},
          "execution_count": 44
        }
      ]
    },
    {
      "cell_type": "code",
      "source": [
        "# agar yek object tooye list nabashe error mide\n",
        "liste_adad.remove(10)"
      ],
      "metadata": {
        "colab": {
          "base_uri": "https://localhost:8080/",
          "height": 183
        },
        "id": "P6FQlAY9ddmi",
        "outputId": "b2b0f8a0-d908-4480-a757-a9e418bcbce9"
      },
      "execution_count": null,
      "outputs": [
        {
          "output_type": "error",
          "ename": "ValueError",
          "evalue": "ignored",
          "traceback": [
            "\u001b[0;31m---------------------------------------------------------------------------\u001b[0m",
            "\u001b[0;31mValueError\u001b[0m                                Traceback (most recent call last)",
            "\u001b[0;32m<ipython-input-45-1c0b39ad4380>\u001b[0m in \u001b[0;36m<module>\u001b[0;34m()\u001b[0m\n\u001b[1;32m      1\u001b[0m \u001b[0;31m# agar yek object tooye list nabashe error mide\u001b[0m\u001b[0;34m\u001b[0m\u001b[0;34m\u001b[0m\u001b[0;34m\u001b[0m\u001b[0m\n\u001b[0;32m----> 2\u001b[0;31m \u001b[0mliste_adad\u001b[0m\u001b[0;34m.\u001b[0m\u001b[0mremove\u001b[0m\u001b[0;34m(\u001b[0m\u001b[0;36m10\u001b[0m\u001b[0;34m)\u001b[0m\u001b[0;34m\u001b[0m\u001b[0;34m\u001b[0m\u001b[0m\n\u001b[0m",
            "\u001b[0;31mValueError\u001b[0m: list.remove(x): x not in list"
          ]
        }
      ]
    },
    {
      "cell_type": "markdown",
      "source": [
        "## .pop([i])\n",
        "\n",
        "pop alave bar inke yek chizi ro remove mikone, azash mitoonim estefade ham bokonim"
      ],
      "metadata": {
        "id": "yfiy4nEqdlpx"
      }
    },
    {
      "cell_type": "code",
      "source": [
        "# bebinim chi darim\n",
        "liste_adad"
      ],
      "metadata": {
        "colab": {
          "base_uri": "https://localhost:8080/"
        },
        "id": "9oA55ORRdxuF",
        "outputId": "e6b5a6c6-e586-4824-9077-4f88c66174b3"
      },
      "execution_count": null,
      "outputs": [
        {
          "output_type": "execute_result",
          "data": {
            "text/plain": [
              "['y', 2, 1, 3, 4, 5, 'x', 6, 'n', 'z']"
            ]
          },
          "metadata": {},
          "execution_count": 47
        }
      ]
    },
    {
      "cell_type": "code",
      "source": [
        "# chizi ke tooye index 6 hast ro pop konesh\n",
        "pop_shode = liste_adad.pop(6)"
      ],
      "metadata": {
        "id": "uPlVVoHtd1Pr"
      },
      "execution_count": null,
      "outputs": []
    },
    {
      "cell_type": "code",
      "source": [
        "liste_adad"
      ],
      "metadata": {
        "colab": {
          "base_uri": "https://localhost:8080/"
        },
        "id": "GfqkKWpceZ-V",
        "outputId": "d60da045-13c3-4c98-d9e7-edfd6768e723"
      },
      "execution_count": null,
      "outputs": [
        {
          "output_type": "execute_result",
          "data": {
            "text/plain": [
              "['y', 2, 1, 3, 4, 5, 6, 'n', 'z']"
            ]
          },
          "metadata": {},
          "execution_count": 49
        }
      ]
    },
    {
      "cell_type": "code",
      "source": [
        "pop_shode"
      ],
      "metadata": {
        "colab": {
          "base_uri": "https://localhost:8080/",
          "height": 35
        },
        "id": "Hintob-XeavB",
        "outputId": "b8b7deaa-4722-4626-abf3-39906b59cb8a"
      },
      "execution_count": null,
      "outputs": [
        {
          "output_type": "execute_result",
          "data": {
            "text/plain": [
              "'x'"
            ],
            "application/vnd.google.colaboratory.intrinsic+json": {
              "type": "string"
            }
          },
          "metadata": {},
          "execution_count": 50
        }
      ]
    },
    {
      "cell_type": "markdown",
      "source": [
        "## del\n",
        "\n",
        "miad yechizi ro delete mikone"
      ],
      "metadata": {
        "id": "g12jZA3Pecxw"
      }
    },
    {
      "cell_type": "code",
      "source": [
        "liste_adad"
      ],
      "metadata": {
        "colab": {
          "base_uri": "https://localhost:8080/"
        },
        "id": "Ol73dBzae76t",
        "outputId": "5b6c6349-841b-4a01-e2ce-d1dd59a33bff"
      },
      "execution_count": null,
      "outputs": [
        {
          "output_type": "execute_result",
          "data": {
            "text/plain": [
              "['y', 2, 1, 3, 4, 5, 6, 'n', 'z']"
            ]
          },
          "metadata": {},
          "execution_count": 51
        }
      ]
    },
    {
      "cell_type": "code",
      "source": [
        "del liste_adad[8]"
      ],
      "metadata": {
        "id": "EE6bHxgBe95T"
      },
      "execution_count": null,
      "outputs": []
    },
    {
      "cell_type": "code",
      "source": [
        "liste_adad"
      ],
      "metadata": {
        "colab": {
          "base_uri": "https://localhost:8080/"
        },
        "id": "4-D8YdQbfJoe",
        "outputId": "a56ce62b-4878-4197-e38b-ec5d4d76c26e"
      },
      "execution_count": null,
      "outputs": [
        {
          "output_type": "execute_result",
          "data": {
            "text/plain": [
              "['y', 2, 1, 3, 4, 5, 6, 'n']"
            ]
          },
          "metadata": {},
          "execution_count": 53
        }
      ]
    },
    {
      "cell_type": "code",
      "source": [
        "del liste_adad[0]"
      ],
      "metadata": {
        "id": "QUlMPTOHfLCd"
      },
      "execution_count": null,
      "outputs": []
    },
    {
      "cell_type": "code",
      "source": [
        "liste_adad"
      ],
      "metadata": {
        "colab": {
          "base_uri": "https://localhost:8080/"
        },
        "id": "Csv3Qw8dfcSj",
        "outputId": "0f0dd30e-db2d-4422-da9c-031808f7979f"
      },
      "execution_count": null,
      "outputs": [
        {
          "output_type": "execute_result",
          "data": {
            "text/plain": [
              "[2, 1, 3, 4, 5, 6, 'n']"
            ]
          },
          "metadata": {},
          "execution_count": 55
        }
      ]
    },
    {
      "cell_type": "markdown",
      "source": [
        "# Tuples\n",
        "\n",
        "Farghe aslie tuple ha ba list ha ine ke tuple haro nemishe taghir dad va hamishe yek chize sabet hastan"
      ],
      "metadata": {
        "id": "DHoJRE9JfdBM"
      }
    },
    {
      "cell_type": "code",
      "source": [
        "my_t = (2, 4, 6, 8)\n",
        "my_t"
      ],
      "metadata": {
        "colab": {
          "base_uri": "https://localhost:8080/"
        },
        "id": "LzOUQn4Qh8hD",
        "outputId": "9e9b528c-3a1b-4885-af94-5457dea26d10"
      },
      "execution_count": null,
      "outputs": [
        {
          "output_type": "execute_result",
          "data": {
            "text/plain": [
              "(2, 4, 6, 8)"
            ]
          },
          "metadata": {},
          "execution_count": 56
        }
      ]
    },
    {
      "cell_type": "code",
      "source": [
        "# Check konim ke type esh chie\n",
        "type(my_t)"
      ],
      "metadata": {
        "colab": {
          "base_uri": "https://localhost:8080/"
        },
        "id": "c65h9k_uiZB4",
        "outputId": "5f6baa2e-6d5e-404d-e42a-0fda2559280b"
      },
      "execution_count": null,
      "outputs": [
        {
          "output_type": "execute_result",
          "data": {
            "text/plain": [
              "tuple"
            ]
          },
          "metadata": {},
          "execution_count": 57
        }
      ]
    },
    {
      "cell_type": "code",
      "source": [
        "# Length my_t ro begoo\n",
        "len(my_t)"
      ],
      "metadata": {
        "colab": {
          "base_uri": "https://localhost:8080/"
        },
        "id": "i4bWrpZMier8",
        "outputId": "e2e8b735-b347-45b8-b66b-c78af45255f9"
      },
      "execution_count": null,
      "outputs": [
        {
          "output_type": "execute_result",
          "data": {
            "text/plain": [
              "4"
            ]
          },
          "metadata": {},
          "execution_count": 58
        }
      ]
    },
    {
      "cell_type": "code",
      "source": [
        "# biaim va bebinim ke index masalan 2 chie tooye in tuple\n",
        "my_t[2]"
      ],
      "metadata": {
        "colab": {
          "base_uri": "https://localhost:8080/"
        },
        "id": "qlb-64Qbiie2",
        "outputId": "b6e8667e-5d4a-4a17-ac14-fe178246d13e"
      },
      "execution_count": null,
      "outputs": [
        {
          "output_type": "execute_result",
          "data": {
            "text/plain": [
              "6"
            ]
          },
          "metadata": {},
          "execution_count": 59
        }
      ]
    },
    {
      "cell_type": "code",
      "source": [
        "ex_list = [2, 4, 6, 8]\n",
        "ex_list[1] = 3\n",
        "ex_list"
      ],
      "metadata": {
        "colab": {
          "base_uri": "https://localhost:8080/"
        },
        "id": "glAKvrsbitIi",
        "outputId": "4e42dd8b-5a9e-422f-efde-5e757da72ad5"
      },
      "execution_count": null,
      "outputs": [
        {
          "output_type": "execute_result",
          "data": {
            "text/plain": [
              "[2, 3, 6, 8]"
            ]
          },
          "metadata": {},
          "execution_count": 60
        }
      ]
    },
    {
      "cell_type": "code",
      "source": [
        "my_t"
      ],
      "metadata": {
        "colab": {
          "base_uri": "https://localhost:8080/"
        },
        "id": "CkuIA1XOi3Uk",
        "outputId": "0a4a94d3-dffb-4bca-daab-bed737b62138"
      },
      "execution_count": null,
      "outputs": [
        {
          "output_type": "execute_result",
          "data": {
            "text/plain": [
              "(2, 4, 6, 8)"
            ]
          },
          "metadata": {},
          "execution_count": 61
        }
      ]
    },
    {
      "cell_type": "code",
      "source": [
        "my_t[1] = 3"
      ],
      "metadata": {
        "colab": {
          "base_uri": "https://localhost:8080/",
          "height": 166
        },
        "id": "tDa6q80OipvB",
        "outputId": "7baabd5b-0a0e-4cc0-9a61-bdbb69223842"
      },
      "execution_count": null,
      "outputs": [
        {
          "output_type": "error",
          "ename": "TypeError",
          "evalue": "ignored",
          "traceback": [
            "\u001b[0;31m---------------------------------------------------------------------------\u001b[0m",
            "\u001b[0;31mTypeError\u001b[0m                                 Traceback (most recent call last)",
            "\u001b[0;32m<ipython-input-62-5afefd3924e5>\u001b[0m in \u001b[0;36m<module>\u001b[0;34m()\u001b[0m\n\u001b[0;32m----> 1\u001b[0;31m \u001b[0mmy_t\u001b[0m\u001b[0;34m[\u001b[0m\u001b[0;36m1\u001b[0m\u001b[0;34m]\u001b[0m \u001b[0;34m=\u001b[0m \u001b[0;36m3\u001b[0m\u001b[0;34m\u001b[0m\u001b[0;34m\u001b[0m\u001b[0m\n\u001b[0m",
            "\u001b[0;31mTypeError\u001b[0m: 'tuple' object does not support item assignment"
          ]
        }
      ]
    },
    {
      "cell_type": "code",
      "source": [
        "# biaim yek tuple besazim\n",
        "names = ('ali', 'fateme', 'mohamad')\n",
        "names"
      ],
      "metadata": {
        "colab": {
          "base_uri": "https://localhost:8080/"
        },
        "id": "SX76TKsNi50I",
        "outputId": "8e1bcb94-f7aa-4884-c4db-ad8e3b84a3d9"
      },
      "execution_count": null,
      "outputs": [
        {
          "output_type": "execute_result",
          "data": {
            "text/plain": [
              "('ali', 'fateme', 'mohamad')"
            ]
          },
          "metadata": {},
          "execution_count": 63
        }
      ]
    },
    {
      "cell_type": "code",
      "source": [
        "# Biaim va harkudum ro tooye yek variable berizim\n",
        "name_1, name_2, name_3 = names"
      ],
      "metadata": {
        "id": "UuLZ4r9EjNGb"
      },
      "execution_count": null,
      "outputs": []
    },
    {
      "cell_type": "code",
      "source": [
        "name_1"
      ],
      "metadata": {
        "colab": {
          "base_uri": "https://localhost:8080/",
          "height": 35
        },
        "id": "zlSgDMDDjwLa",
        "outputId": "eedba1d0-3d59-40dc-fded-ba52ddd3f885"
      },
      "execution_count": null,
      "outputs": [
        {
          "output_type": "execute_result",
          "data": {
            "text/plain": [
              "'ali'"
            ],
            "application/vnd.google.colaboratory.intrinsic+json": {
              "type": "string"
            }
          },
          "metadata": {},
          "execution_count": 65
        }
      ]
    },
    {
      "cell_type": "code",
      "source": [
        "name_2"
      ],
      "metadata": {
        "colab": {
          "base_uri": "https://localhost:8080/",
          "height": 35
        },
        "id": "v9ypYzREjxJy",
        "outputId": "2752a7a6-8014-46e7-a4db-9871918f5c23"
      },
      "execution_count": null,
      "outputs": [
        {
          "output_type": "execute_result",
          "data": {
            "text/plain": [
              "'fateme'"
            ],
            "application/vnd.google.colaboratory.intrinsic+json": {
              "type": "string"
            }
          },
          "metadata": {},
          "execution_count": 66
        }
      ]
    },
    {
      "cell_type": "code",
      "source": [
        "name_3"
      ],
      "metadata": {
        "colab": {
          "base_uri": "https://localhost:8080/",
          "height": 35
        },
        "id": "KtKUMibkjyU9",
        "outputId": "83cc4dfe-282c-4013-d19d-d59e053770cf"
      },
      "execution_count": null,
      "outputs": [
        {
          "output_type": "execute_result",
          "data": {
            "text/plain": [
              "'mohamad'"
            ],
            "application/vnd.google.colaboratory.intrinsic+json": {
              "type": "string"
            }
          },
          "metadata": {},
          "execution_count": 67
        }
      ]
    },
    {
      "cell_type": "code",
      "source": [
        "names.index('fateme')"
      ],
      "metadata": {
        "colab": {
          "base_uri": "https://localhost:8080/"
        },
        "id": "u_QgtfxTjy6F",
        "outputId": "27bbfad8-865e-4aac-c672-ec6134b35894"
      },
      "execution_count": null,
      "outputs": [
        {
          "output_type": "execute_result",
          "data": {
            "text/plain": [
              "1"
            ]
          },
          "metadata": {},
          "execution_count": 69
        }
      ]
    },
    {
      "cell_type": "markdown",
      "source": [
        "# Dictionary\n",
        "\n",
        "dict ha daraye key va value haye mokhtalef hastan ke oonaro baham baresi mikonim"
      ],
      "metadata": {
        "id": "SxesSApikBzr"
      }
    },
    {
      "cell_type": "code",
      "source": [
        "# Biaim yek dict besazim\n",
        "my_dict = {\n",
        "    'name': 'peyman', \n",
        "    'family': 'vahidi', \n",
        "    'age': 24,\n",
        "    5: 10\n",
        "}"
      ],
      "metadata": {
        "id": "rVF6Pyuukb8z"
      },
      "execution_count": null,
      "outputs": []
    },
    {
      "cell_type": "code",
      "source": [
        "len(my_dict)"
      ],
      "metadata": {
        "colab": {
          "base_uri": "https://localhost:8080/"
        },
        "id": "Z2AyV3afkvlz",
        "outputId": "39c376ac-29c5-415f-c9a1-72cae2f49e41"
      },
      "execution_count": null,
      "outputs": [
        {
          "output_type": "execute_result",
          "data": {
            "text/plain": [
              "4"
            ]
          },
          "metadata": {},
          "execution_count": 78
        }
      ]
    },
    {
      "cell_type": "code",
      "source": [
        "type(my_dict)"
      ],
      "metadata": {
        "colab": {
          "base_uri": "https://localhost:8080/"
        },
        "id": "gpFxEdBbkyxU",
        "outputId": "024337b6-0527-420c-c7e9-8f17616abd06"
      },
      "execution_count": null,
      "outputs": [
        {
          "output_type": "execute_result",
          "data": {
            "text/plain": [
              "dict"
            ]
          },
          "metadata": {},
          "execution_count": 79
        }
      ]
    },
    {
      "cell_type": "markdown",
      "source": [
        "## dict items"
      ],
      "metadata": {
        "id": "FcPZW4ovk4Wv"
      }
    },
    {
      "cell_type": "code",
      "source": [
        "my_dict['name']"
      ],
      "metadata": {
        "colab": {
          "base_uri": "https://localhost:8080/",
          "height": 35
        },
        "id": "iiU1XXsAlE9j",
        "outputId": "590ab3b1-c847-46c7-eb46-5a6e408b896f"
      },
      "execution_count": null,
      "outputs": [
        {
          "output_type": "execute_result",
          "data": {
            "text/plain": [
              "'peyman'"
            ],
            "application/vnd.google.colaboratory.intrinsic+json": {
              "type": "string"
            }
          },
          "metadata": {},
          "execution_count": 80
        }
      ]
    },
    {
      "cell_type": "code",
      "source": [
        "my_dict['age']"
      ],
      "metadata": {
        "colab": {
          "base_uri": "https://localhost:8080/"
        },
        "id": "m_Kv9ZrllQTK",
        "outputId": "900a9dc3-e731-4b6a-d94b-383f811122d2"
      },
      "execution_count": null,
      "outputs": [
        {
          "output_type": "execute_result",
          "data": {
            "text/plain": [
              "24"
            ]
          },
          "metadata": {},
          "execution_count": 81
        }
      ]
    },
    {
      "cell_type": "code",
      "source": [
        "my_dict[5]"
      ],
      "metadata": {
        "colab": {
          "base_uri": "https://localhost:8080/"
        },
        "id": "Z0YPsopclTUa",
        "outputId": "3eef7165-41c8-403b-aaba-ce2073f4727c"
      },
      "execution_count": null,
      "outputs": [
        {
          "output_type": "execute_result",
          "data": {
            "text/plain": [
              "10"
            ]
          },
          "metadata": {},
          "execution_count": 82
        }
      ]
    },
    {
      "cell_type": "code",
      "source": [
        "# raveshe dge baraye gereftane value ha\n",
        "my_dict.get('name')"
      ],
      "metadata": {
        "colab": {
          "base_uri": "https://localhost:8080/",
          "height": 35
        },
        "id": "C5IkqpxLlc1u",
        "outputId": "a6c04101-9e8a-4b4d-e880-5e9a4ef126c4"
      },
      "execution_count": null,
      "outputs": [
        {
          "output_type": "execute_result",
          "data": {
            "text/plain": [
              "'peyman'"
            ],
            "application/vnd.google.colaboratory.intrinsic+json": {
              "type": "string"
            }
          },
          "metadata": {},
          "execution_count": 83
        }
      ]
    },
    {
      "cell_type": "code",
      "source": [
        "# Dictionary ha ghabeliate update shodan ro daran\n",
        "my_dict['name'] = 'nazanin'\n",
        "my_dict"
      ],
      "metadata": {
        "colab": {
          "base_uri": "https://localhost:8080/"
        },
        "id": "_3NR8Ebslp_q",
        "outputId": "05765359-c29f-442e-a58e-f2e45f5ae030"
      },
      "execution_count": null,
      "outputs": [
        {
          "output_type": "execute_result",
          "data": {
            "text/plain": [
              "{5: 10, 'age': 24, 'family': 'vahidi', 'name': 'nazanin'}"
            ]
          },
          "metadata": {},
          "execution_count": 84
        }
      ]
    },
    {
      "cell_type": "markdown",
      "source": [
        "> bayad be in nokte deghat konim ke tooye dictionary ha tartib hefz nemishe va amalan baraye ma ham mohem nist chon miaim va az key & value estefade mikonim."
      ],
      "metadata": {
        "id": "ocY_OPcfl-ov"
      }
    },
    {
      "cell_type": "markdown",
      "source": [
        "## .keys()\n",
        "\n",
        "mitoonim bebinim che key hayi dare in dict e ma"
      ],
      "metadata": {
        "id": "oqz7_bITmo2S"
      }
    },
    {
      "cell_type": "code",
      "source": [
        "# bia key haye mokhtalef ro be man neshoon bede\n",
        "my_dict.keys()"
      ],
      "metadata": {
        "colab": {
          "base_uri": "https://localhost:8080/"
        },
        "id": "oEv_ie-Rmukl",
        "outputId": "793e3808-09ea-4edf-aece-3746a78bd386"
      },
      "execution_count": null,
      "outputs": [
        {
          "output_type": "execute_result",
          "data": {
            "text/plain": [
              "dict_keys(['name', 'family', 'age', 5])"
            ]
          },
          "metadata": {},
          "execution_count": 85
        }
      ]
    },
    {
      "cell_type": "markdown",
      "source": [
        "## .values()\n",
        "\n",
        "bebinim in dictionary ma che value hayi dare"
      ],
      "metadata": {
        "id": "XOteHoBAmz2Q"
      }
    },
    {
      "cell_type": "code",
      "source": [
        "# baraye inke value haye mokhtalef ro check konim\n",
        "my_dict.values()"
      ],
      "metadata": {
        "colab": {
          "base_uri": "https://localhost:8080/"
        },
        "id": "-xe--KbSnAcu",
        "outputId": "b0a40a7f-41f8-4c99-a619-cadf70984c9f"
      },
      "execution_count": null,
      "outputs": [
        {
          "output_type": "execute_result",
          "data": {
            "text/plain": [
              "dict_values(['nazanin', 'vahidi', 24, 10])"
            ]
          },
          "metadata": {},
          "execution_count": 86
        }
      ]
    },
    {
      "cell_type": "markdown",
      "source": [
        "## .items()\n",
        "\n",
        "miad va hame chi ro baham dar nazar migire"
      ],
      "metadata": {
        "id": "f7DGSUunnE7P"
      }
    },
    {
      "cell_type": "code",
      "source": [
        "my_dict.items()"
      ],
      "metadata": {
        "colab": {
          "base_uri": "https://localhost:8080/"
        },
        "id": "PLL4uX6cnQJp",
        "outputId": "16a7180d-12e8-498c-dad1-eff71f7ef8a1"
      },
      "execution_count": null,
      "outputs": [
        {
          "output_type": "execute_result",
          "data": {
            "text/plain": [
              "dict_items([('name', 'nazanin'), ('family', 'vahidi'), ('age', 24), (5, 10)])"
            ]
          },
          "metadata": {},
          "execution_count": 87
        }
      ]
    },
    {
      "cell_type": "code",
      "source": [
        ""
      ],
      "metadata": {
        "id": "Jyx55zUQnpUt"
      },
      "execution_count": null,
      "outputs": []
    }
  ]
}