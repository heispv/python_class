{
  "nbformat": 4,
  "nbformat_minor": 0,
  "metadata": {
    "colab": {
      "name": "05_python_basics.ipynb",
      "provenance": [],
      "collapsed_sections": []
    },
    "kernelspec": {
      "name": "python3",
      "display_name": "Python 3"
    },
    "language_info": {
      "name": "python"
    }
  },
  "cells": [
    {
      "cell_type": "markdown",
      "source": [
        "## While\n",
        "\n",
        "Another form of loops which we're going to discuss.\n",
        "\n",
        "the loop is going to run forever until the condition is True"
      ],
      "metadata": {
        "id": "RIFDtw9kMlal"
      }
    },
    {
      "cell_type": "code",
      "source": [
        "# an example\n",
        "nums_list = [1, 2, 3, 4, 5, 'x', 6, 7, 8, 9, 10, 11,'y', 12]"
      ],
      "metadata": {
        "id": "zwUb8C2ANG2y"
      },
      "execution_count": 2,
      "outputs": []
    },
    {
      "cell_type": "code",
      "source": [
        "nums_list"
      ],
      "metadata": {
        "colab": {
          "base_uri": "https://localhost:8080/"
        },
        "id": "W8r5yVmVNXqX",
        "outputId": "15a62e6d-1cce-4769-bbb7-359c091185ed"
      },
      "execution_count": 3,
      "outputs": [
        {
          "output_type": "execute_result",
          "data": {
            "text/plain": [
              "[1, 2, 3, 4, 5, 'x', 6, 7, 8, 9, 10, 11, 'y', 12]"
            ]
          },
          "metadata": {},
          "execution_count": 3
        }
      ]
    },
    {
      "cell_type": "markdown",
      "source": [
        "> we expect that the output of the program should be like this\n",
        "\n",
        "\n",
        "\n",
        "```\n",
        "a string found in index 5\n",
        "a string found in index 12\n",
        "\n",
        "other numbers which we found powered by 2 is:\n",
        "[1, 4, 9, 16, 25, 36, 49, 64, 81, 100, 121, 144]\n",
        "```\n",
        "\n"
      ],
      "metadata": {
        "id": "ccFwCA0eNY5F"
      }
    },
    {
      "cell_type": "code",
      "source": [
        "len(nums_list)"
      ],
      "metadata": {
        "colab": {
          "base_uri": "https://localhost:8080/"
        },
        "id": "MHAKJpuWQ-rR",
        "outputId": "2865c7b8-5dae-4e00-fad9-45882777f792"
      },
      "execution_count": 4,
      "outputs": [
        {
          "output_type": "execute_result",
          "data": {
            "text/plain": [
              "14"
            ]
          },
          "metadata": {},
          "execution_count": 4
        }
      ]
    },
    {
      "cell_type": "code",
      "source": [
        "new_list = []\n",
        "\n",
        "i = 0\n",
        "len_list = len(nums_list)\n",
        "\n",
        "while i <= (len_list - 1):\n",
        "  # first we should check weather the type is str or int\n",
        "  if type(nums_list[i]) == int:\n",
        "    new_list.append(nums_list[i] ** 2)\n",
        "  elif type(nums_list[i]) == str:\n",
        "    print(f\"a string found in index {i}\")\n",
        "    new_list.append(False)\n",
        "  \n",
        "  i += 1\n",
        "\n",
        "print(f\"\\nother numbers which we found powered by 2 is:\\n{new_list}\")"
      ],
      "metadata": {
        "colab": {
          "base_uri": "https://localhost:8080/"
        },
        "id": "ojz_QxPIOfvj",
        "outputId": "bd694f8d-1beb-4f95-b926-8b3b24dd386e"
      },
      "execution_count": 5,
      "outputs": [
        {
          "output_type": "stream",
          "name": "stdout",
          "text": [
            "a string found in index 5\n",
            "a string found in index 12\n",
            "\n",
            "other numbers which we found powered by 2 is:\n",
            "[1, 4, 9, 16, 25, False, 36, 49, 64, 81, 100, 121, False, 144]\n"
          ]
        }
      ]
    },
    {
      "cell_type": "markdown",
      "source": [
        "## Function\n",
        "\n",
        "We can write our code in a function in order to use it later."
      ],
      "metadata": {
        "id": "YdZeq5ppXMND"
      }
    },
    {
      "cell_type": "code",
      "source": [
        "def get_info():\n",
        "  \"\"\"\n",
        "  You can use this function to save your information.\n",
        "  \"\"\"\n",
        "\n",
        "  name = input(\"Enter your first name: \")\n",
        "  family = input(\"Enter your last name: \")\n",
        "\n",
        "  while True:\n",
        "    with_age = input(\"\\nDo you want to enter you age?[y/n] \")\n",
        "\n",
        "    if with_age is 'y' or with_age is 'n':\n",
        "      break\n",
        "    \n",
        "    print(\"*Pay attention to the format*\")\n",
        "\n",
        "  if with_age is 'y':\n",
        "    age = input(\"Enter your age: \")\n",
        "    print(\"\\nInformation saved successfully.\")\n",
        "    information = {\n",
        "        \"name\": name,\n",
        "        \"family\": family,\n",
        "        \"age\": age\n",
        "    }\n",
        "\n",
        "  else:\n",
        "    print(\"\\nInformation saved successfully.\")\n",
        "    information = {\n",
        "        \"name\": name,\n",
        "        \"family\": family\n",
        "    }\n",
        "\n",
        "  return information"
      ],
      "metadata": {
        "id": "CL0XAZgBTCiz"
      },
      "execution_count": 6,
      "outputs": []
    },
    {
      "cell_type": "code",
      "source": [
        "the_info = get_info()"
      ],
      "metadata": {
        "colab": {
          "base_uri": "https://localhost:8080/"
        },
        "id": "oO9j3ryBVcxu",
        "outputId": "fcb97bba-fc7c-4f35-e300-e20ade68474b"
      },
      "execution_count": 7,
      "outputs": [
        {
          "output_type": "stream",
          "name": "stdout",
          "text": [
            "Enter your first name: Peyman\n",
            "Enter your last name: Vahidi\n",
            "\n",
            "Do you want to enter you age?[y/n] n\n",
            "\n",
            "Information saved successfully.\n"
          ]
        }
      ]
    },
    {
      "cell_type": "code",
      "source": [
        "the_info"
      ],
      "metadata": {
        "colab": {
          "base_uri": "https://localhost:8080/"
        },
        "id": "WzSDyq4oWizE",
        "outputId": "6edd590e-270d-41c4-ae3f-05c6a5d6f257"
      },
      "execution_count": 8,
      "outputs": [
        {
          "output_type": "execute_result",
          "data": {
            "text/plain": [
              "{'family': 'Vahidi', 'name': 'Peyman'}"
            ]
          },
          "metadata": {},
          "execution_count": 8
        }
      ]
    },
    {
      "cell_type": "code",
      "source": [
        "# Lets write our function in another way\n",
        "def get_info_2(name, family, age=None):\n",
        "\n",
        "  if age is None:\n",
        "    information = {\n",
        "        \"name\": name,\n",
        "        \"family\": family\n",
        "    }\n",
        "  else:\n",
        "    information = {\n",
        "        \"name\": name,\n",
        "        \"family\": family,\n",
        "        \"age\": age\n",
        "    }\n",
        "\n",
        "  print(\"Information saved successfully.\")\n",
        "  return information"
      ],
      "metadata": {
        "id": "HqzHbqH_Ymzk"
      },
      "execution_count": 9,
      "outputs": []
    },
    {
      "cell_type": "code",
      "source": [
        "etelaat_2 = get_info_2('peyman', 'vahidi', 24)"
      ],
      "metadata": {
        "colab": {
          "base_uri": "https://localhost:8080/"
        },
        "id": "ZAWFO5WjZicT",
        "outputId": "e41c27ae-7ba1-42ea-a3a4-2776bde0ea19"
      },
      "execution_count": 10,
      "outputs": [
        {
          "output_type": "stream",
          "name": "stdout",
          "text": [
            "Information saved successfully.\n"
          ]
        }
      ]
    },
    {
      "cell_type": "code",
      "source": [
        "etelaat_2"
      ],
      "metadata": {
        "colab": {
          "base_uri": "https://localhost:8080/"
        },
        "id": "cg2KpsPnaAOf",
        "outputId": "564810ed-095c-498e-a487-99fd694337b4"
      },
      "execution_count": 11,
      "outputs": [
        {
          "output_type": "execute_result",
          "data": {
            "text/plain": [
              "{'age': 24, 'family': 'vahidi', 'name': 'peyman'}"
            ]
          },
          "metadata": {},
          "execution_count": 11
        }
      ]
    },
    {
      "cell_type": "markdown",
      "source": [
        "What's our goal:\n",
        "1. get a list of numbers\n",
        "2. the output should be list of strings with the same len as the input list in the fist stage\n",
        "3. the strings in the output list should be 'odd' or 'even'\n",
        "\n",
        "let's give an example:\n",
        "\n",
        "input -> [1, 2, 3, 4, 5, 6]\n",
        "\n",
        "ourput -> ['odd', 'even', 'odd', 'even', 'odd', 'even']\n",
        "\n",
        "hint = use %"
      ],
      "metadata": {
        "id": "1IjspSyebf9j"
      }
    },
    {
      "cell_type": "code",
      "source": [
        "list((1, 2, 3))"
      ],
      "metadata": {
        "colab": {
          "base_uri": "https://localhost:8080/"
        },
        "id": "qtH68SFdcNRl",
        "outputId": "07d4d06f-56e2-4f22-83c8-edfde669af36"
      },
      "execution_count": 12,
      "outputs": [
        {
          "output_type": "execute_result",
          "data": {
            "text/plain": [
              "[1, 2, 3]"
            ]
          },
          "metadata": {},
          "execution_count": 12
        }
      ]
    },
    {
      "cell_type": "code",
      "source": [
        "tuple([1, 2, 3])"
      ],
      "metadata": {
        "colab": {
          "base_uri": "https://localhost:8080/"
        },
        "id": "Pmsav8S6cQzT",
        "outputId": "4baf94ab-bd12-4f2f-fde9-f2e2880b2fc5"
      },
      "execution_count": 13,
      "outputs": [
        {
          "output_type": "execute_result",
          "data": {
            "text/plain": [
              "(1, 2, 3)"
            ]
          },
          "metadata": {},
          "execution_count": 13
        }
      ]
    },
    {
      "cell_type": "code",
      "source": [
        "def odd_even(my_list):\n",
        "  "
      ],
      "metadata": {
        "colab": {
          "base_uri": "https://localhost:8080/",
          "height": 132
        },
        "id": "DRp1bbFiayq6",
        "outputId": "75e855fb-dbfe-4fa2-f72d-41a317bdc5a6"
      },
      "execution_count": 14,
      "outputs": [
        {
          "output_type": "error",
          "ename": "SyntaxError",
          "evalue": "ignored",
          "traceback": [
            "\u001b[0;36m  File \u001b[0;32m\"<ipython-input-14-29a6346daab6>\"\u001b[0;36m, line \u001b[0;32m1\u001b[0m\n\u001b[0;31m    def odd_even(list)\u001b[0m\n\u001b[0m                      ^\u001b[0m\n\u001b[0;31mSyntaxError\u001b[0m\u001b[0;31m:\u001b[0m invalid syntax\n"
          ]
        }
      ]
    },
    {
      "cell_type": "markdown",
      "source": [
        "# Create a function which gives the first n numbers in fibonacci series\n",
        "\n",
        "a(0) = a(1) = 1\n",
        "\n",
        "2 <= t < n\n",
        "\n",
        "a(t) = a(t-1) + a(t-2)"
      ],
      "metadata": {
        "id": "oIXUNueJdNzu"
      }
    },
    {
      "cell_type": "code",
      "source": [
        "def fib(n):\n",
        "  "
      ],
      "metadata": {
        "id": "zfoshbcCdWSa"
      },
      "execution_count": null,
      "outputs": []
    },
    {
      "cell_type": "code",
      "source": [
        "n=4 -> 1, 1, 2, 3\n",
        "\n",
        "n=6 -> 1, 1, 2, 3, 5, 8"
      ],
      "metadata": {
        "id": "Vz39BWJ-eDdi"
      },
      "execution_count": null,
      "outputs": []
    },
    {
      "cell_type": "code",
      "source": [
        "4 % 2"
      ],
      "metadata": {
        "colab": {
          "base_uri": "https://localhost:8080/"
        },
        "id": "l4cr45h7e1nc",
        "outputId": "b24da7c8-4c69-476e-cd8c-2c035cad727c"
      },
      "execution_count": 18,
      "outputs": [
        {
          "output_type": "execute_result",
          "data": {
            "text/plain": [
              "0"
            ]
          },
          "metadata": {},
          "execution_count": 18
        }
      ]
    },
    {
      "cell_type": "code",
      "source": [
        ""
      ],
      "metadata": {
        "id": "-p_OIx9fe2qT"
      },
      "execution_count": null,
      "outputs": []
    }
  ]
}