{
  "nbformat": 4,
  "nbformat_minor": 0,
  "metadata": {
    "colab": {
      "name": "03_python_basics.ipynb",
      "provenance": [],
      "collapsed_sections": []
    },
    "kernelspec": {
      "name": "python3",
      "display_name": "Python 3"
    },
    "language_info": {
      "name": "python"
    }
  },
  "cells": [
    {
      "cell_type": "markdown",
      "source": [
        "> Pas be edameye dictionary ha mipardazim"
      ],
      "metadata": {
        "id": "qjwqk2cvGLz9"
      }
    },
    {
      "cell_type": "markdown",
      "source": [
        "# Dictionary"
      ],
      "metadata": {
        "id": "hYAPj0VoGfVV"
      }
    },
    {
      "cell_type": "markdown",
      "source": [
        "## update items"
      ],
      "metadata": {
        "id": "3Klrj16UGkjs"
      }
    },
    {
      "cell_type": "code",
      "source": [
        "my_dict = {\n",
        "    'name': 'fateme',\n",
        "    'family': 'kalantari',\n",
        "    'age': 25\n",
        "}"
      ],
      "metadata": {
        "id": "QItwT9yVGm-s"
      },
      "execution_count": 10,
      "outputs": []
    },
    {
      "cell_type": "code",
      "source": [
        "# Check konim\n",
        "my_dict"
      ],
      "metadata": {
        "colab": {
          "base_uri": "https://localhost:8080/"
        },
        "id": "C_wvie26G0Dl",
        "outputId": "2a807611-c275-4bbc-8ab3-2eed3d9ef168"
      },
      "execution_count": 11,
      "outputs": [
        {
          "output_type": "execute_result",
          "data": {
            "text/plain": [
              "{'age': 25, 'family': 'kalantari', 'name': 'fateme'}"
            ]
          },
          "metadata": {},
          "execution_count": 11
        }
      ]
    },
    {
      "cell_type": "code",
      "source": [
        "# Baraye inke update konam\n",
        "my_dict['name'] = 'Ali'\n",
        "my_dict"
      ],
      "metadata": {
        "colab": {
          "base_uri": "https://localhost:8080/"
        },
        "id": "oa_WpJB9G2OE",
        "outputId": "02f45efd-018e-40a4-97ca-caad6c94f6d6"
      },
      "execution_count": 12,
      "outputs": [
        {
          "output_type": "execute_result",
          "data": {
            "text/plain": [
              "{'age': 25, 'family': 'kalantari', 'name': 'Ali'}"
            ]
          },
          "metadata": {},
          "execution_count": 12
        }
      ]
    },
    {
      "cell_type": "code",
      "source": [
        "# yek raveshe dge baraye inke dict ro update konim\n",
        "my_dict.update({'family': 'Mohamadi'})\n",
        "my_dict"
      ],
      "metadata": {
        "colab": {
          "base_uri": "https://localhost:8080/"
        },
        "id": "Sd_YNzVfHEDN",
        "outputId": "e8cea174-8f46-4f86-bb8c-7eca21de101a"
      },
      "execution_count": 13,
      "outputs": [
        {
          "output_type": "execute_result",
          "data": {
            "text/plain": [
              "{'age': 25, 'family': 'Mohamadi', 'name': 'Ali'}"
            ]
          },
          "metadata": {},
          "execution_count": 13
        }
      ]
    },
    {
      "cell_type": "markdown",
      "source": [
        "## Add items"
      ],
      "metadata": {
        "id": "2e0SeCr0HX1v"
      }
    },
    {
      "cell_type": "code",
      "source": [
        "# Bebinim chi dashim\n",
        "my_dict"
      ],
      "metadata": {
        "colab": {
          "base_uri": "https://localhost:8080/"
        },
        "id": "SFHUyA0_Hgot",
        "outputId": "1d9f0b7b-8e0f-4590-e315-e13c73d22656"
      },
      "execution_count": 14,
      "outputs": [
        {
          "output_type": "execute_result",
          "data": {
            "text/plain": [
              "{'age': 25, 'family': 'Mohamadi', 'name': 'Ali'}"
            ]
          },
          "metadata": {},
          "execution_count": 14
        }
      ]
    },
    {
      "cell_type": "code",
      "source": [
        "# Biam key va value shahr ro ezafe konim\n",
        "my_dict['shahr'] = 'Tehran'\n",
        "my_dict"
      ],
      "metadata": {
        "colab": {
          "base_uri": "https://localhost:8080/"
        },
        "id": "ZW6PNkvPHjID",
        "outputId": "810d35c2-68d3-4b13-f433-e76144d8ab27"
      },
      "execution_count": 15,
      "outputs": [
        {
          "output_type": "execute_result",
          "data": {
            "text/plain": [
              "{'age': 25, 'family': 'Mohamadi', 'name': 'Ali', 'shahr': 'Tehran'}"
            ]
          },
          "metadata": {},
          "execution_count": 15
        }
      ]
    },
    {
      "cell_type": "markdown",
      "source": [
        "## indexing"
      ],
      "metadata": {
        "id": "XHq6enUlH1t4"
      }
    },
    {
      "cell_type": "code",
      "source": [
        "# Biaim va yek dict e jadid besazim\n",
        "people = {\n",
        "    'names': ['fateme', 'ali', 'mohamad', 'nazanin'],\n",
        "    'family': ['mohamadi', 'yazarloo', 'kalantari', 'jaberi'],\n",
        "    'age': [10, 14, 25, 19]\n",
        "}"
      ],
      "metadata": {
        "id": "uIiv6ibDH9Uw"
      },
      "execution_count": 16,
      "outputs": []
    },
    {
      "cell_type": "code",
      "source": [
        "# Baraye inke biaim va mohamad ro peyda konim\n",
        "people['names'][2]"
      ],
      "metadata": {
        "colab": {
          "base_uri": "https://localhost:8080/",
          "height": 36
        },
        "id": "ywqOhk0IIXtG",
        "outputId": "64cb580c-943a-44e2-d049-7d210451d0ce"
      },
      "execution_count": 22,
      "outputs": [
        {
          "output_type": "execute_result",
          "data": {
            "text/plain": [
              "'mohamad'"
            ],
            "application/vnd.google.colaboratory.intrinsic+json": {
              "type": "string"
            }
          },
          "metadata": {},
          "execution_count": 22
        }
      ]
    },
    {
      "cell_type": "markdown",
      "source": [
        "be komake khate bala dar asl do khat code e payin ejra shode ast\n",
        "```\n",
        "x = people['names']\n",
        "x[2]\n",
        "```"
      ],
      "metadata": {
        "id": "Vp_mQsIoIwaE"
      }
    },
    {
      "cell_type": "markdown",
      "source": [
        "# if ... else\n",
        "\n",
        "* Mitoonim be komake Python biaim va yek seri ghavanine riazi sharti ro check konim\n",
        "\n",
        "ghavanini ke mitoonim check konim:\n",
        "1. mosavi `a == b`\n",
        "2. na mosavi `a != b`\n",
        "3. Koochiktar `a < b`\n",
        "4. Bozorgtar `a > b`\n",
        "5. Koochiktar mosavi `a <= b`\n",
        "6. Bozorgtar mosavi `a >= b`"
      ],
      "metadata": {
        "id": "ZwljgQJVItii"
      }
    },
    {
      "cell_type": "code",
      "source": [
        "# Yek mesale sade\n",
        "a = 14\n",
        "b = 12\n",
        "\n",
        "if a > b:\n",
        "  print('a bozorgtar az b ast.')"
      ],
      "metadata": {
        "colab": {
          "base_uri": "https://localhost:8080/"
        },
        "id": "neRznRcKKham",
        "outputId": "cb09af7a-f184-4ac2-bd08-de65fd74d179"
      },
      "execution_count": 29,
      "outputs": [
        {
          "output_type": "stream",
          "name": "stdout",
          "text": [
            "a bozorgtar az b ast.\n"
          ]
        }
      ]
    },
    {
      "cell_type": "code",
      "source": [
        "# Yekam pichide tar\n",
        "a = 14\n",
        "b = 14\n",
        "\n",
        "if a > b:\n",
        "  print('a bozorgtar az b ast.')\n",
        "elif a < b:\n",
        "  print('b bozorgtar az a ast.')\n",
        "elif a == b:\n",
        "  print('a va b baham barabar hastand.')"
      ],
      "metadata": {
        "colab": {
          "base_uri": "https://localhost:8080/"
        },
        "id": "O23lGRvRKz_k",
        "outputId": "56d9c278-7944-471f-dd2d-b675cce98fc8"
      },
      "execution_count": 32,
      "outputs": [
        {
          "output_type": "stream",
          "name": "stdout",
          "text": [
            "a va b baham barabar hastand.\n"
          ]
        }
      ]
    },
    {
      "cell_type": "markdown",
      "source": [
        "> zamani ke darim block haro misazim ma yek doone `if` darim, mitoonim har chanta ke doos dashim `elif` dashte bashim va dar enteha mitoonim `else` dashte bashim ya nadashte bashim"
      ],
      "metadata": {
        "id": "3Xc-GgY0NQUj"
      }
    },
    {
      "cell_type": "code",
      "source": [
        "# Yekam motefavet tar\n",
        "a = 20\n",
        "b = 20\n",
        "\n",
        "if a > b:\n",
        "  print('a bozorgtar ast')\n",
        "elif a == b:\n",
        "  print('a va b baham barabar hastand.')\n",
        "else:\n",
        "  print('b bozorgtar ast.')\n",
        "\n"
      ],
      "metadata": {
        "colab": {
          "base_uri": "https://localhost:8080/"
        },
        "id": "PZANcVLlLhqL",
        "outputId": "649ca5e4-93d5-47e6-e1f0-7bd40d3e1b43"
      },
      "execution_count": 38,
      "outputs": [
        {
          "output_type": "stream",
          "name": "stdout",
          "text": [
            "a va b baham barabar hastand.\n"
          ]
        }
      ]
    },
    {
      "cell_type": "code",
      "source": [
        "esm = 'mohamad'\n",
        "\n",
        "if esm == 'mohamad':\n",
        "  print('esme in fard mohamad ast.')\n",
        "elif esm == 'zahra':\n",
        "  print('esme in fard zahra ast.')\n",
        "elif type(esm) == str:\n",
        "  print('esme vared shode az type str ast ama tooye list esmesh nist.')\n",
        "else:\n",
        "  print('asaln str vared nakardin.')\n"
      ],
      "metadata": {
        "colab": {
          "base_uri": "https://localhost:8080/"
        },
        "id": "4nawLydHNiVj",
        "outputId": "9f948348-bada-44fc-83c6-4f808b7a7473"
      },
      "execution_count": 62,
      "outputs": [
        {
          "output_type": "stream",
          "name": "stdout",
          "text": [
            "esme in fard mohamad ast.\n"
          ]
        }
      ]
    },
    {
      "cell_type": "code",
      "source": [
        "# Mitoonim if va else ro be soorate kootah va tooye yek khat estefade konim\n",
        "a = 1\n",
        "b = 3\n",
        "\n",
        "print('a bozorgtar mosavi b ast') if a >= b else print('b bozorgtar ast')"
      ],
      "metadata": {
        "colab": {
          "base_uri": "https://localhost:8080/"
        },
        "id": "ZSeDG3BDPVuS",
        "outputId": "3b04e424-e367-4cfb-ab44-8531427fa2ba"
      },
      "execution_count": 64,
      "outputs": [
        {
          "output_type": "stream",
          "name": "stdout",
          "text": [
            "b bozorgtar ast\n"
          ]
        }
      ]
    },
    {
      "cell_type": "markdown",
      "source": [
        "## and"
      ],
      "metadata": {
        "id": "Hu0Tqz-KRN18"
      }
    },
    {
      "cell_type": "code",
      "source": [
        "# Mitoonim az `and` ham estefade konim\n",
        "a = 1\n",
        "b = 30\n",
        "c = 20\n",
        "\n",
        "if b > a and b > c:\n",
        "  print('b az har do adad bozorgtar ast')\n",
        "else:\n",
        "  print('b az hardo bozorgtar nist')"
      ],
      "metadata": {
        "colab": {
          "base_uri": "https://localhost:8080/"
        },
        "id": "ossmXeZSRcaD",
        "outputId": "2a8f68ce-6d9b-4748-9adb-df1870caaad1"
      },
      "execution_count": 74,
      "outputs": [
        {
          "output_type": "stream",
          "name": "stdout",
          "text": [
            "b az har do adad bozorgtar ast\n"
          ]
        }
      ]
    },
    {
      "cell_type": "code",
      "source": [
        "True and True"
      ],
      "metadata": {
        "colab": {
          "base_uri": "https://localhost:8080/"
        },
        "id": "mpTcyA8pRzMR",
        "outputId": "381c3fda-29de-4086-c737-864d596547bb"
      },
      "execution_count": 68,
      "outputs": [
        {
          "output_type": "execute_result",
          "data": {
            "text/plain": [
              "True"
            ]
          },
          "metadata": {},
          "execution_count": 68
        }
      ]
    },
    {
      "cell_type": "code",
      "source": [
        "True and False"
      ],
      "metadata": {
        "colab": {
          "base_uri": "https://localhost:8080/"
        },
        "id": "eoU-dIGDR7Jh",
        "outputId": "d4c13953-7dbf-42a1-e25d-0893d4540227"
      },
      "execution_count": 69,
      "outputs": [
        {
          "output_type": "execute_result",
          "data": {
            "text/plain": [
              "False"
            ]
          },
          "metadata": {},
          "execution_count": 69
        }
      ]
    },
    {
      "cell_type": "code",
      "source": [
        "False and False"
      ],
      "metadata": {
        "colab": {
          "base_uri": "https://localhost:8080/"
        },
        "id": "AzFqnQHbR-gj",
        "outputId": "e37aac39-91ac-44b7-d10c-9151655519bb"
      },
      "execution_count": 70,
      "outputs": [
        {
          "output_type": "execute_result",
          "data": {
            "text/plain": [
              "False"
            ]
          },
          "metadata": {},
          "execution_count": 70
        }
      ]
    },
    {
      "cell_type": "markdown",
      "source": [
        "## Or"
      ],
      "metadata": {
        "id": "VUpH_CzGSAck"
      }
    },
    {
      "cell_type": "code",
      "source": [
        "# Mitoonim biaim va az `or` estafade konim\n",
        "a = 5\n",
        "b = 40\n",
        "c = 20\n",
        "\n",
        "if b > a or b > c:\n",
        "  print('b az yeki az adad ya hardo bozorgtar ast')\n",
        "else:\n",
        "  print('b az hardo adad koochiktar ast')"
      ],
      "metadata": {
        "colab": {
          "base_uri": "https://localhost:8080/"
        },
        "id": "RL4J3zTVSZNJ",
        "outputId": "c2bb6fdc-a3bf-4e45-b336-08fd9159f46c"
      },
      "execution_count": 77,
      "outputs": [
        {
          "output_type": "stream",
          "name": "stdout",
          "text": [
            "b az yeki az adad ya hardo bozorgtar ast\n"
          ]
        }
      ]
    },
    {
      "cell_type": "code",
      "source": [
        "True or False"
      ],
      "metadata": {
        "colab": {
          "base_uri": "https://localhost:8080/"
        },
        "id": "4gzFJYq-SvhE",
        "outputId": "c55dd299-be00-4aae-f47e-df3c4f11c16b"
      },
      "execution_count": 78,
      "outputs": [
        {
          "output_type": "execute_result",
          "data": {
            "text/plain": [
              "True"
            ]
          },
          "metadata": {},
          "execution_count": 78
        }
      ]
    },
    {
      "cell_type": "code",
      "source": [
        "False or False"
      ],
      "metadata": {
        "colab": {
          "base_uri": "https://localhost:8080/"
        },
        "id": "46tBM8VpS3X2",
        "outputId": "b48decfd-7ccc-4ab9-e4a0-57ea7abfbbd6"
      },
      "execution_count": 79,
      "outputs": [
        {
          "output_type": "execute_result",
          "data": {
            "text/plain": [
              "False"
            ]
          },
          "metadata": {},
          "execution_count": 79
        }
      ]
    },
    {
      "cell_type": "code",
      "source": [
        "True or True"
      ],
      "metadata": {
        "colab": {
          "base_uri": "https://localhost:8080/"
        },
        "id": "wahPiMLgS7p5",
        "outputId": "b09a354a-4e32-4968-f648-9dd4c0af989f"
      },
      "execution_count": 80,
      "outputs": [
        {
          "output_type": "execute_result",
          "data": {
            "text/plain": [
              "True"
            ]
          },
          "metadata": {},
          "execution_count": 80
        }
      ]
    },
    {
      "cell_type": "markdown",
      "source": [
        "## if haye too dar too"
      ],
      "metadata": {
        "id": "DhGsa-ahS9dN"
      }
    },
    {
      "cell_type": "code",
      "source": [
        "# Estefade az if haye too dar too\n",
        "x = 9\n",
        "\n",
        "if x > 10:\n",
        "  print('x is greater than 10')\n",
        "  if x > 20:\n",
        "    print('and greater than 20')\n",
        "  else:\n",
        "    print('but not greater than 20')\n",
        "\n",
        "else:\n",
        "  print('x is not greater than 10 and 20')"
      ],
      "metadata": {
        "colab": {
          "base_uri": "https://localhost:8080/"
        },
        "id": "UdPw0iFVTFA6",
        "outputId": "4ab0e3ff-a501-4435-dacb-f3e9554d907b"
      },
      "execution_count": 86,
      "outputs": [
        {
          "output_type": "stream",
          "name": "stdout",
          "text": [
            "x is not greater than 10 and 20\n"
          ]
        }
      ]
    },
    {
      "cell_type": "markdown",
      "source": [
        "# Loops\n",
        "\n",
        "* do model halghe darim ke yeki be komake `for` neveshte mishe va digari be komake `while` neveshte mishe."
      ],
      "metadata": {
        "id": "XNQJo34DTdCv"
      }
    },
    {
      "cell_type": "markdown",
      "source": [
        "## For\n",
        "\n",
        "for baraye in estefade mishe ke tooye eleman haye mokhtalef yek chizi `iterate` bokone"
      ],
      "metadata": {
        "id": "UUUk3QjLUrec"
      }
    },
    {
      "cell_type": "code",
      "source": [
        "# Yek mesale\n",
        "esm_ha = ['peyman', 'ali', 'nazanin']\n",
        "\n",
        "for esm in esm_ha:\n",
        "  print(f'esm: {esm}')"
      ],
      "metadata": {
        "colab": {
          "base_uri": "https://localhost:8080/"
        },
        "id": "d7kqkfhHVAkq",
        "outputId": "7ab53948-1f90-410d-ad9d-d399eaed4445"
      },
      "execution_count": 91,
      "outputs": [
        {
          "output_type": "stream",
          "name": "stdout",
          "text": [
            "esm: peyman\n",
            "esm: ali\n",
            "esm: nazanin\n"
          ]
        }
      ]
    },
    {
      "cell_type": "markdown",
      "source": [
        "pas for e bala in kar haro anjam mide.\n",
        "\n",
        "```\n",
        "esm = esm_ha[0]\n",
        "print(f'esm: {esm}')\n",
        "\n",
        "esm = esm_ha[1]\n",
        "print(f'esm: {esm}')\n",
        "\n",
        "esm = esm_ha[2]\n",
        "print(f'esm: {esm}')\n",
        "```"
      ],
      "metadata": {
        "id": "6Jt09OXyVPXB"
      }
    },
    {
      "cell_type": "code",
      "source": [
        "# Yek mesale kami pichide tar\n",
        "mive = ['sib', 'khiar', 'angoor', 'moz', 'hulu', 'tamoom shod', 'portoghal']\n"
      ],
      "metadata": {
        "id": "OQsscPhcVtE4"
      },
      "execution_count": 93,
      "outputs": []
    },
    {
      "cell_type": "markdown",
      "source": [
        "mikhaim yek khurji dashte bashim be soorate zir\n",
        "```\n",
        "sib\n",
        "be angoor naresidim\n",
        "\n",
        "khiar\n",
        "be angoor naresidim\n",
        "\n",
        "angoor\n",
        "be angoor residim\n",
        "\n",
        "moz\n",
        "ghablan be angoor reside boodim.\n",
        "\n",
        "hulu\n",
        "ghablan be angoor reside boodim.\n",
        "\n",
        "tamoom shod\n",
        "```"
      ],
      "metadata": {
        "id": "AbLMszf2WM45"
      }
    },
    {
      "cell_type": "markdown",
      "source": [
        "> Mitoonim az `break` estefade konim ya yek halghe ro beshkoonim"
      ],
      "metadata": {
        "id": "GCZkoJKIYcyo"
      }
    },
    {
      "cell_type": "code",
      "source": [
        "be_angoor = False\n",
        "\n",
        "for x in mive:\n",
        "  print(x)\n",
        "\n",
        "  if x == 'angoor':\n",
        "    print('be angoor residim\\n')\n",
        "    be_angoor = True\n",
        "  \n",
        "  elif x == 'tamoom shod':\n",
        "    break\n",
        "  \n",
        "  else:\n",
        "    if be_angoor:\n",
        "      print('ghablan be angoor reside boodim\\n')\n",
        "    else:\n",
        "      print('be angoor naresidim\\n')"
      ],
      "metadata": {
        "colab": {
          "base_uri": "https://localhost:8080/"
        },
        "id": "RNS7QqnYWjIh",
        "outputId": "d50a178b-3ccf-4ad7-b090-ba3884d0256a"
      },
      "execution_count": 103,
      "outputs": [
        {
          "output_type": "stream",
          "name": "stdout",
          "text": [
            "sib\n",
            "be angoor naresidim\n",
            "\n",
            "khiar\n",
            "be angoor naresidim\n",
            "\n",
            "angoor\n",
            "be angoor residim\n",
            "\n",
            "moz\n",
            "ghablan be angoor reside boodim\n",
            "\n",
            "hulu\n",
            "ghablan be angoor reside boodim\n",
            "\n",
            "tamoom shod\n"
          ]
        }
      ]
    },
    {
      "cell_type": "markdown",
      "source": [
        "## Continue\n",
        "\n",
        "Zamani ke az continue estefade mikonim dar asl mirim sare iteration e badi"
      ],
      "metadata": {
        "id": "EYfUCztcZEwj"
      }
    },
    {
      "cell_type": "code",
      "source": [
        "mive = ['sib', 'salam', 'hulu']\n",
        "\n",
        "for i in mive:\n",
        "\n",
        "  if i == 'salam':\n",
        "    continue\n",
        "  \n",
        "  print(i)"
      ],
      "metadata": {
        "colab": {
          "base_uri": "https://localhost:8080/"
        },
        "id": "ZCdplKB5cLxg",
        "outputId": "9ada985b-e9bb-4abb-b8fe-ee22a8b8a053"
      },
      "execution_count": 106,
      "outputs": [
        {
          "output_type": "stream",
          "name": "stdout",
          "text": [
            "sib\n",
            "hulu\n"
          ]
        }
      ]
    }
  ]
}