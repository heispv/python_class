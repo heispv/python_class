{
  "nbformat": 4,
  "nbformat_minor": 0,
  "metadata": {
    "colab": {
      "name": "01_python_class.ipynb",
      "provenance": [],
      "collapsed_sections": []
    },
    "kernelspec": {
      "name": "python3",
      "display_name": "Python 3"
    },
    "language_info": {
      "name": "python"
    }
  },
  "cells": [
    {
      "cell_type": "markdown",
      "source": [
        "# Download Python"
      ],
      "metadata": {
        "id": "-6bZDNivBudJ"
      }
    },
    {
      "cell_type": "markdown",
      "source": [
        "link haye download:\n",
        "\n",
        "https://www.python.org/downloads/\n",
        "\n",
        "https://www.anaconda.com/products/distribution\n",
        "\n",
        "https://colab.research.google.com/"
      ],
      "metadata": {
        "id": "QjOxdb8hCNAD"
      }
    },
    {
      "cell_type": "markdown",
      "source": [
        "## Numbers\n",
        "\n",
        "Shoma mitoonin tamame aamale riazi ro be komake Python mohasebe konin\n",
        "\n",
        "jam +\n",
        "\n",
        "kam -\n",
        "\n",
        "zarb *\n",
        "\n",
        "taghsim /"
      ],
      "metadata": {
        "id": "rAkylgEoCdRK"
      }
    },
    {
      "cell_type": "code",
      "source": [
        "7 + 3"
      ],
      "metadata": {
        "colab": {
          "base_uri": "https://localhost:8080/"
        },
        "id": "X4MGhcnYDqUy",
        "outputId": "ba9d5603-28b3-4cbc-8ae4-63bf7d3dd402"
      },
      "execution_count": 1,
      "outputs": [
        {
          "output_type": "execute_result",
          "data": {
            "text/plain": [
              "10"
            ]
          },
          "metadata": {},
          "execution_count": 1
        }
      ]
    },
    {
      "cell_type": "code",
      "source": [
        "55 - 10 + 9"
      ],
      "metadata": {
        "colab": {
          "base_uri": "https://localhost:8080/"
        },
        "id": "oZmXYBoxDz8T",
        "outputId": "3fb4fd76-a0cc-48a3-c247-fa69cc7792b4"
      },
      "execution_count": 2,
      "outputs": [
        {
          "output_type": "execute_result",
          "data": {
            "text/plain": [
              "54"
            ]
          },
          "metadata": {},
          "execution_count": 2
        }
      ]
    },
    {
      "cell_type": "code",
      "source": [
        "23 - 5 * 2"
      ],
      "metadata": {
        "colab": {
          "base_uri": "https://localhost:8080/"
        },
        "id": "-0EZn4jID7eX",
        "outputId": "21fab9f8-7d70-490f-b86d-f0ef9efd709b"
      },
      "execution_count": 3,
      "outputs": [
        {
          "output_type": "execute_result",
          "data": {
            "text/plain": [
              "13"
            ]
          },
          "metadata": {},
          "execution_count": 3
        }
      ]
    },
    {
      "cell_type": "markdown",
      "source": [
        "> tooye paython tartibe riazi hefz mishe yani be tartib aval () bad tavan ** bad zarbo taghsim va bad jamo tafrigh anjam mishe"
      ],
      "metadata": {
        "id": "0RkZ5f6pENCR"
      }
    },
    {
      "cell_type": "code",
      "source": [
        "(23 - 5) * 2"
      ],
      "metadata": {
        "colab": {
          "base_uri": "https://localhost:8080/"
        },
        "id": "OFe0mtOFEXTY",
        "outputId": "f8b846fb-026b-4248-d084-f4ee1fce9ff8"
      },
      "execution_count": 4,
      "outputs": [
        {
          "output_type": "execute_result",
          "data": {
            "text/plain": [
              "36"
            ]
          },
          "metadata": {},
          "execution_count": 4
        }
      ]
    },
    {
      "cell_type": "code",
      "source": [
        "10 / 3"
      ],
      "metadata": {
        "colab": {
          "base_uri": "https://localhost:8080/"
        },
        "id": "oAySRHZbEbnr",
        "outputId": "29fe020a-4d1d-481b-ed2d-958b19d9cad9"
      },
      "execution_count": 5,
      "outputs": [
        {
          "output_type": "execute_result",
          "data": {
            "text/plain": [
              "3.3333333333333335"
            ]
          },
          "metadata": {},
          "execution_count": 5
        }
      ]
    },
    {
      "cell_type": "code",
      "source": [
        "type(16)"
      ],
      "metadata": {
        "colab": {
          "base_uri": "https://localhost:8080/"
        },
        "id": "l0L0v3-EEvwg",
        "outputId": "570969e2-46a1-4e68-d36b-ee1186367d26"
      },
      "execution_count": 6,
      "outputs": [
        {
          "output_type": "execute_result",
          "data": {
            "text/plain": [
              "int"
            ]
          },
          "metadata": {},
          "execution_count": 6
        }
      ]
    },
    {
      "cell_type": "code",
      "source": [
        "type(16.0)"
      ],
      "metadata": {
        "colab": {
          "base_uri": "https://localhost:8080/"
        },
        "id": "RX9bnFPlE7SQ",
        "outputId": "9e150048-c68a-4714-9eb6-c34c065b9d8c"
      },
      "execution_count": 7,
      "outputs": [
        {
          "output_type": "execute_result",
          "data": {
            "text/plain": [
              "float"
            ]
          },
          "metadata": {},
          "execution_count": 7
        }
      ]
    },
    {
      "cell_type": "markdown",
      "source": [
        " > Tooye python adade mokhtalefi darim ke dota azoona `int` va `float` hastand"
      ],
      "metadata": {
        "id": "Tlg57h-UE_lJ"
      }
    },
    {
      "cell_type": "code",
      "source": [
        "10 / 2"
      ],
      "metadata": {
        "colab": {
          "base_uri": "https://localhost:8080/"
        },
        "id": "MBBsOOa_FJ5y",
        "outputId": "cdcc05c5-2b41-48d6-bb88-8703ab7c8985"
      },
      "execution_count": 8,
      "outputs": [
        {
          "output_type": "execute_result",
          "data": {
            "text/plain": [
              "5.0"
            ]
          },
          "metadata": {},
          "execution_count": 8
        }
      ]
    },
    {
      "cell_type": "code",
      "source": [
        "type(10 / 2)"
      ],
      "metadata": {
        "colab": {
          "base_uri": "https://localhost:8080/"
        },
        "id": "C92u2eaDFNhD",
        "outputId": "c086a9df-4daf-44c0-b13f-009ac95c39db"
      },
      "execution_count": 9,
      "outputs": [
        {
          "output_type": "execute_result",
          "data": {
            "text/plain": [
              "float"
            ]
          },
          "metadata": {},
          "execution_count": 9
        }
      ]
    },
    {
      "cell_type": "code",
      "source": [
        "type(5 * 2)"
      ],
      "metadata": {
        "colab": {
          "base_uri": "https://localhost:8080/"
        },
        "id": "AiF3tOyqFPyG",
        "outputId": "5a74cdc6-0687-4c8d-d6ba-1cc32e29696d"
      },
      "execution_count": 10,
      "outputs": [
        {
          "output_type": "execute_result",
          "data": {
            "text/plain": [
              "int"
            ]
          },
          "metadata": {},
          "execution_count": 10
        }
      ]
    },
    {
      "cell_type": "markdown",
      "source": [
        "> agar ma `float` ro d ba `int` jam ya kam ya taghsim ya zarb bokonim khuruji ma `float` khahad bood."
      ],
      "metadata": {
        "id": "xTHWwKmnIo3P"
      }
    },
    {
      "cell_type": "code",
      "source": [
        "5.0 * 2"
      ],
      "metadata": {
        "colab": {
          "base_uri": "https://localhost:8080/"
        },
        "id": "13s62vufFaTr",
        "outputId": "ebe106b8-071d-4176-df3c-48c323a48060"
      },
      "execution_count": 11,
      "outputs": [
        {
          "output_type": "execute_result",
          "data": {
            "text/plain": [
              "10.0"
            ]
          },
          "metadata": {},
          "execution_count": 11
        }
      ]
    },
    {
      "cell_type": "markdown",
      "source": [
        "## Kar haye dge taghsim"
      ],
      "metadata": {
        "id": "b0DJkxbxFceS"
      }
    },
    {
      "cell_type": "code",
      "source": [
        "# Taghsim addi\n",
        "12 / 7"
      ],
      "metadata": {
        "colab": {
          "base_uri": "https://localhost:8080/"
        },
        "id": "0icvO2ZFFmT5",
        "outputId": "e7e4a74c-84c4-44d0-c348-5a22079b9e52"
      },
      "execution_count": 12,
      "outputs": [
        {
          "output_type": "execute_result",
          "data": {
            "text/plain": [
              "1.7142857142857142"
            ]
          },
          "metadata": {},
          "execution_count": 12
        }
      ]
    },
    {
      "cell_type": "code",
      "source": [
        "adade_ashari = 12 / 7"
      ],
      "metadata": {
        "id": "JorYpZxPJKzg"
      },
      "execution_count": 46,
      "outputs": []
    },
    {
      "cell_type": "code",
      "source": [
        "round(adade_ashari, 4)"
      ],
      "metadata": {
        "colab": {
          "base_uri": "https://localhost:8080/"
        },
        "id": "nT3duFLGJAfg",
        "outputId": "636a8c13-1da8-4907-bec2-34f92439acca"
      },
      "execution_count": 47,
      "outputs": [
        {
          "output_type": "execute_result",
          "data": {
            "text/plain": [
              "1.7143"
            ]
          },
          "metadata": {},
          "execution_count": 47
        }
      ]
    },
    {
      "cell_type": "code",
      "source": [
        "# Khareje ghesmate sahih\n",
        "12 // 7"
      ],
      "metadata": {
        "colab": {
          "base_uri": "https://localhost:8080/"
        },
        "id": "tfvzDZD7Fozb",
        "outputId": "515105b4-02d4-47c3-8408-df7f3e461569"
      },
      "execution_count": 15,
      "outputs": [
        {
          "output_type": "execute_result",
          "data": {
            "text/plain": [
              "1"
            ]
          },
          "metadata": {},
          "execution_count": 15
        }
      ]
    },
    {
      "cell_type": "code",
      "source": [
        "# Baghi mande taghsim ro mide\n",
        "12 % 7"
      ],
      "metadata": {
        "colab": {
          "base_uri": "https://localhost:8080/"
        },
        "id": "DqLkLHKmFrfH",
        "outputId": "6d446e48-c344-4875-8699-2bf6c1a07264"
      },
      "execution_count": 16,
      "outputs": [
        {
          "output_type": "execute_result",
          "data": {
            "text/plain": [
              "5"
            ]
          },
          "metadata": {},
          "execution_count": 16
        }
      ]
    },
    {
      "cell_type": "markdown",
      "source": [
        "## Tavan"
      ],
      "metadata": {
        "id": "e4uHMMFnF0dY"
      }
    },
    {
      "cell_type": "code",
      "source": [
        "2 ** 3"
      ],
      "metadata": {
        "colab": {
          "base_uri": "https://localhost:8080/"
        },
        "id": "OnDLSTNmF-wU",
        "outputId": "d76164a0-5675-4e48-93bb-ca0dce984da9"
      },
      "execution_count": 17,
      "outputs": [
        {
          "output_type": "execute_result",
          "data": {
            "text/plain": [
              "8"
            ]
          },
          "metadata": {},
          "execution_count": 17
        }
      ]
    },
    {
      "cell_type": "code",
      "source": [
        "3 ** 4"
      ],
      "metadata": {
        "colab": {
          "base_uri": "https://localhost:8080/"
        },
        "id": "TXLVRnupGAPK",
        "outputId": "75a591b2-e55b-47de-c677-5c001fb4d792"
      },
      "execution_count": 18,
      "outputs": [
        {
          "output_type": "execute_result",
          "data": {
            "text/plain": [
              "81"
            ]
          },
          "metadata": {},
          "execution_count": 18
        }
      ]
    },
    {
      "cell_type": "code",
      "source": [
        "4 ** 0.5"
      ],
      "metadata": {
        "colab": {
          "base_uri": "https://localhost:8080/"
        },
        "id": "jsjMy_ivGB64",
        "outputId": "351b67d8-038a-43a8-86b9-4eaeabacf019"
      },
      "execution_count": 19,
      "outputs": [
        {
          "output_type": "execute_result",
          "data": {
            "text/plain": [
              "2.0"
            ]
          },
          "metadata": {},
          "execution_count": 19
        }
      ]
    },
    {
      "cell_type": "markdown",
      "source": [
        "## Variables\n",
        "\n",
        "agar bekhaim meghdare yek moteghayer ro avaz bokonim miaim az `=` estefade mikonim. ama agar bekhaim bebinim ke aya dota chiz baham mosavi hastand bayad az `==` estafade konim."
      ],
      "metadata": {
        "id": "beKowEBVGFAS"
      }
    },
    {
      "cell_type": "code",
      "source": [
        "# Farz konim ke mikhaim masahat va mohite mostatil ro mohasebe konim\n",
        "tool = 5\n",
        "arz = 3"
      ],
      "metadata": {
        "id": "rAvThMQFGckJ"
      },
      "execution_count": 30,
      "outputs": []
    },
    {
      "cell_type": "code",
      "source": [
        "tool"
      ],
      "metadata": {
        "colab": {
          "base_uri": "https://localhost:8080/"
        },
        "id": "vaqFp56KG2oI",
        "outputId": "cbc9c37a-e763-479c-aac4-903eb2343adf"
      },
      "execution_count": 31,
      "outputs": [
        {
          "output_type": "execute_result",
          "data": {
            "text/plain": [
              "5"
            ]
          },
          "metadata": {},
          "execution_count": 31
        }
      ]
    },
    {
      "cell_type": "code",
      "source": [
        "arz"
      ],
      "metadata": {
        "colab": {
          "base_uri": "https://localhost:8080/"
        },
        "id": "qIeF6xj4G55s",
        "outputId": "92f06178-5355-4a5c-a5ca-e767d953e145"
      },
      "execution_count": 32,
      "outputs": [
        {
          "output_type": "execute_result",
          "data": {
            "text/plain": [
              "3"
            ]
          },
          "metadata": {},
          "execution_count": 32
        }
      ]
    },
    {
      "cell_type": "code",
      "source": [
        "type(tool), type(arz)"
      ],
      "metadata": {
        "colab": {
          "base_uri": "https://localhost:8080/"
        },
        "id": "YKnctdLhG7JI",
        "outputId": "a5f494b8-b913-4c11-d390-d0836be934fa"
      },
      "execution_count": 33,
      "outputs": [
        {
          "output_type": "execute_result",
          "data": {
            "text/plain": [
              "(int, int)"
            ]
          },
          "metadata": {},
          "execution_count": 33
        }
      ]
    },
    {
      "cell_type": "code",
      "source": [
        "tool == 4"
      ],
      "metadata": {
        "colab": {
          "base_uri": "https://localhost:8080/"
        },
        "id": "JFwApN7wG9hj",
        "outputId": "051b6e3e-dbdf-4a28-f7ac-594829abaa56"
      },
      "execution_count": 34,
      "outputs": [
        {
          "output_type": "execute_result",
          "data": {
            "text/plain": [
              "False"
            ]
          },
          "metadata": {},
          "execution_count": 34
        }
      ]
    },
    {
      "cell_type": "code",
      "source": [
        "tool == 5"
      ],
      "metadata": {
        "colab": {
          "base_uri": "https://localhost:8080/"
        },
        "id": "w2WrTPS0HRPU",
        "outputId": "bfb3f55d-97ee-4b5d-bb4b-0affa94d25a0"
      },
      "execution_count": 38,
      "outputs": [
        {
          "output_type": "execute_result",
          "data": {
            "text/plain": [
              "True"
            ]
          },
          "metadata": {},
          "execution_count": 38
        }
      ]
    },
    {
      "cell_type": "code",
      "source": [
        "type(tool == 4)"
      ],
      "metadata": {
        "colab": {
          "base_uri": "https://localhost:8080/"
        },
        "id": "Y0kYUNkEHS2c",
        "outputId": "58c111cb-126b-416f-ccb8-4236ca2fda2e"
      },
      "execution_count": 36,
      "outputs": [
        {
          "output_type": "execute_result",
          "data": {
            "text/plain": [
              "bool"
            ]
          },
          "metadata": {},
          "execution_count": 36
        }
      ]
    },
    {
      "cell_type": "code",
      "source": [
        "# Masahat barabare ba tool dar arz\n",
        "masahat = tool * arz\n",
        "masahat"
      ],
      "metadata": {
        "colab": {
          "base_uri": "https://localhost:8080/"
        },
        "id": "-bpkYsq9HZ1P",
        "outputId": "79d877b0-3913-4d99-a445-22c348944f37"
      },
      "execution_count": 42,
      "outputs": [
        {
          "output_type": "execute_result",
          "data": {
            "text/plain": [
              "15"
            ]
          },
          "metadata": {},
          "execution_count": 42
        }
      ]
    },
    {
      "cell_type": "code",
      "source": [
        "# Baraye mohasebe mohit\n",
        "mohit = tool * 2 + arz * 2\n",
        "mohit"
      ],
      "metadata": {
        "colab": {
          "base_uri": "https://localhost:8080/"
        },
        "id": "MSzQyN2yH6nr",
        "outputId": "3d13bc47-8a45-465f-91b7-5cf5d24392d0"
      },
      "execution_count": 45,
      "outputs": [
        {
          "output_type": "execute_result",
          "data": {
            "text/plain": [
              "16"
            ]
          },
          "metadata": {},
          "execution_count": 45
        }
      ]
    },
    {
      "cell_type": "markdown",
      "source": [
        "## String\n",
        "\n",
        "tooye farsi be string ha reshte migan"
      ],
      "metadata": {
        "id": "-XQnh5ejIb5Q"
      }
    },
    {
      "cell_type": "code",
      "source": [
        "jomle = \"Hello World\""
      ],
      "metadata": {
        "id": "GjLV2msnJmVQ"
      },
      "execution_count": 49,
      "outputs": []
    },
    {
      "cell_type": "code",
      "source": [
        "type(jomle)"
      ],
      "metadata": {
        "colab": {
          "base_uri": "https://localhost:8080/"
        },
        "id": "OQFJEEaBJv-M",
        "outputId": "76312eca-77c8-414d-c19a-9ec2921e0a12"
      },
      "execution_count": 52,
      "outputs": [
        {
          "output_type": "execute_result",
          "data": {
            "text/plain": [
              "str"
            ]
          },
          "metadata": {},
          "execution_count": 52
        }
      ]
    },
    {
      "cell_type": "code",
      "source": [
        "mohit"
      ],
      "metadata": {
        "colab": {
          "base_uri": "https://localhost:8080/"
        },
        "id": "nWR3UBRNKZco",
        "outputId": "548d92ae-41de-4846-db8a-6ec01915a13a"
      },
      "execution_count": 56,
      "outputs": [
        {
          "output_type": "execute_result",
          "data": {
            "text/plain": [
              "16"
            ]
          },
          "metadata": {},
          "execution_count": 56
        }
      ]
    },
    {
      "cell_type": "code",
      "source": [
        "print(f\"Mohite mostatil barabare ba: {mohit}\\nva masahat barabar ast ba: {masahat}\")"
      ],
      "metadata": {
        "colab": {
          "base_uri": "https://localhost:8080/"
        },
        "id": "rfz70hpEJ0sG",
        "outputId": "aaeac8f0-4183-4f48-aa43-26a57a012366"
      },
      "execution_count": 59,
      "outputs": [
        {
          "output_type": "stream",
          "name": "stdout",
          "text": [
            "Mohite mostatil barabare ba: 16\n",
            "va masahat barabar ast ba: 15\n"
          ]
        }
      ]
    },
    {
      "cell_type": "code",
      "source": [
        "esm = 'peyman'\n",
        "family = 'vahidi'"
      ],
      "metadata": {
        "id": "nJoEm73uKB9W"
      },
      "execution_count": 60,
      "outputs": []
    },
    {
      "cell_type": "code",
      "source": [
        "print(esm + \" \" + family)"
      ],
      "metadata": {
        "colab": {
          "base_uri": "https://localhost:8080/"
        },
        "id": "9y7Qi4NwK4V3",
        "outputId": "d7e175d9-36d6-488a-fef7-f71ae2d0b5d4"
      },
      "execution_count": 65,
      "outputs": [
        {
          "output_type": "stream",
          "name": "stdout",
          "text": [
            "peyman vahidi\n"
          ]
        }
      ]
    },
    {
      "cell_type": "code",
      "source": [
        "esm * 2"
      ],
      "metadata": {
        "colab": {
          "base_uri": "https://localhost:8080/",
          "height": 36
        },
        "id": "kxIIvBHvK6Ql",
        "outputId": "e3409cf6-4ca6-4369-f103-942d3e6851c4"
      },
      "execution_count": 69,
      "outputs": [
        {
          "output_type": "execute_result",
          "data": {
            "text/plain": [
              "'peymanpeyman'"
            ],
            "application/vnd.google.colaboratory.intrinsic+json": {
              "type": "string"
            }
          },
          "metadata": {},
          "execution_count": 69
        }
      ]
    },
    {
      "cell_type": "code",
      "source": [
        "type(esm)"
      ],
      "metadata": {
        "colab": {
          "base_uri": "https://localhost:8080/"
        },
        "id": "D0FAfE8OLQ2f",
        "outputId": "8efc9c86-7ae2-4d78-f1cc-e7c39b37860b"
      },
      "execution_count": 72,
      "outputs": [
        {
          "output_type": "execute_result",
          "data": {
            "text/plain": [
              "str"
            ]
          },
          "metadata": {},
          "execution_count": 72
        }
      ]
    },
    {
      "cell_type": "markdown",
      "source": [
        "* Ta aln ba chand type az variable ha ashna shodim ke ebaratand az\n",
        "1. `int`\n",
        "2. `float`\n",
        "3. `bool`\n",
        "4.  `str`\n"
      ],
      "metadata": {
        "id": "cceI6pRlLZM2"
      }
    },
    {
      "cell_type": "markdown",
      "source": [
        "### index gozari"
      ],
      "metadata": {
        "id": "NNdcQidxLr0o"
      }
    },
    {
      "cell_type": "code",
      "source": [
        "kalame = \"Artificial Intelligence\""
      ],
      "metadata": {
        "id": "EXF_gZapOKC3"
      },
      "execution_count": 73,
      "outputs": []
    },
    {
      "cell_type": "code",
      "source": [
        "len(kalame)"
      ],
      "metadata": {
        "colab": {
          "base_uri": "https://localhost:8080/"
        },
        "id": "yPJfxvvxOmRH",
        "outputId": "6b8c973d-4ea4-4e33-982f-81258681ff02"
      },
      "execution_count": 76,
      "outputs": [
        {
          "output_type": "execute_result",
          "data": {
            "text/plain": [
              "23"
            ]
          },
          "metadata": {},
          "execution_count": 76
        }
      ]
    },
    {
      "cell_type": "code",
      "source": [
        "type(kalame)"
      ],
      "metadata": {
        "colab": {
          "base_uri": "https://localhost:8080/"
        },
        "id": "1yXwqwKNOPKH",
        "outputId": "de174fb4-e7a9-4e94-fbdf-cb0d989a7800"
      },
      "execution_count": 74,
      "outputs": [
        {
          "output_type": "execute_result",
          "data": {
            "text/plain": [
              "str"
            ]
          },
          "metadata": {},
          "execution_count": 74
        }
      ]
    },
    {
      "cell_type": "markdown",
      "source": [
        "ba tavajoh be inke len kalame ma 23 hast ya hamoon N==23 hast, pas index hayi ke mitoonim azash estefade konim az 0 ta 22 (N-1) moteghayer mibashand."
      ],
      "metadata": {
        "id": "zhE4FdrGOtgt"
      }
    },
    {
      "cell_type": "code",
      "source": [
        "kalame[21]"
      ],
      "metadata": {
        "colab": {
          "base_uri": "https://localhost:8080/",
          "height": 36
        },
        "id": "0sL5VjSCOWic",
        "outputId": "5fbac0dd-086f-4953-a925-64da9af4b4c5"
      },
      "execution_count": 79,
      "outputs": [
        {
          "output_type": "execute_result",
          "data": {
            "text/plain": [
              "'c'"
            ],
            "application/vnd.google.colaboratory.intrinsic+json": {
              "type": "string"
            }
          },
          "metadata": {},
          "execution_count": 79
        }
      ]
    },
    {
      "cell_type": "code",
      "source": [
        "kalame"
      ],
      "metadata": {
        "colab": {
          "base_uri": "https://localhost:8080/",
          "height": 36
        },
        "id": "JGg0Mc_IPHkm",
        "outputId": "ca654225-1df2-4611-e51f-0124b2c84f28"
      },
      "execution_count": 81,
      "outputs": [
        {
          "output_type": "execute_result",
          "data": {
            "text/plain": [
              "'Artificial Intelligence'"
            ],
            "application/vnd.google.colaboratory.intrinsic+json": {
              "type": "string"
            }
          },
          "metadata": {},
          "execution_count": 81
        }
      ]
    },
    {
      "cell_type": "code",
      "source": [
        "kalame[0:10]"
      ],
      "metadata": {
        "colab": {
          "base_uri": "https://localhost:8080/",
          "height": 36
        },
        "id": "OZDNzGDeOeYo",
        "outputId": "6fdadfe1-5af5-4a30-d0ae-4b12b99da682"
      },
      "execution_count": 82,
      "outputs": [
        {
          "output_type": "execute_result",
          "data": {
            "text/plain": [
              "'Artificial'"
            ],
            "application/vnd.google.colaboratory.intrinsic+json": {
              "type": "string"
            }
          },
          "metadata": {},
          "execution_count": 82
        }
      ]
    },
    {
      "cell_type": "code",
      "source": [
        "kalame[3:9]"
      ],
      "metadata": {
        "colab": {
          "base_uri": "https://localhost:8080/",
          "height": 36
        },
        "id": "mefEu_Q6PFPp",
        "outputId": "5345a32e-a29e-41c9-a018-75b08fec7782"
      },
      "execution_count": 83,
      "outputs": [
        {
          "output_type": "execute_result",
          "data": {
            "text/plain": [
              "'ificia'"
            ],
            "application/vnd.google.colaboratory.intrinsic+json": {
              "type": "string"
            }
          },
          "metadata": {},
          "execution_count": 83
        }
      ]
    },
    {
      "cell_type": "code",
      "source": [
        "kalame[0:5]"
      ],
      "metadata": {
        "colab": {
          "base_uri": "https://localhost:8080/",
          "height": 36
        },
        "id": "RWxwlYweP4te",
        "outputId": "0010a9ce-325e-4de6-9120-1e1b1a6bbd19"
      },
      "execution_count": 85,
      "outputs": [
        {
          "output_type": "execute_result",
          "data": {
            "text/plain": [
              "'Artif'"
            ],
            "application/vnd.google.colaboratory.intrinsic+json": {
              "type": "string"
            }
          },
          "metadata": {},
          "execution_count": 85
        }
      ]
    },
    {
      "cell_type": "code",
      "source": [
        "kalame[:5]"
      ],
      "metadata": {
        "colab": {
          "base_uri": "https://localhost:8080/",
          "height": 36
        },
        "id": "I6REl1q-PYYF",
        "outputId": "74e4af7c-23f8-440e-8e34-5bcbda13fd23"
      },
      "execution_count": 84,
      "outputs": [
        {
          "output_type": "execute_result",
          "data": {
            "text/plain": [
              "'Artif'"
            ],
            "application/vnd.google.colaboratory.intrinsic+json": {
              "type": "string"
            }
          },
          "metadata": {},
          "execution_count": 84
        }
      ]
    },
    {
      "cell_type": "code",
      "source": [
        "kalame[-4:]"
      ],
      "metadata": {
        "colab": {
          "base_uri": "https://localhost:8080/",
          "height": 36
        },
        "id": "-wlzh8JGP3qx",
        "outputId": "d5158c1c-1024-4321-abef-1a8f960ad1aa"
      },
      "execution_count": 86,
      "outputs": [
        {
          "output_type": "execute_result",
          "data": {
            "text/plain": [
              "'ence'"
            ],
            "application/vnd.google.colaboratory.intrinsic+json": {
              "type": "string"
            }
          },
          "metadata": {},
          "execution_count": 86
        }
      ]
    },
    {
      "cell_type": "code",
      "source": [
        "kalame"
      ],
      "metadata": {
        "colab": {
          "base_uri": "https://localhost:8080/",
          "height": 36
        },
        "id": "WzZt1B5TQP-X",
        "outputId": "ba7e1116-1eae-4c64-e622-a814a5b65ea3"
      },
      "execution_count": 88,
      "outputs": [
        {
          "output_type": "execute_result",
          "data": {
            "text/plain": [
              "'Artificial Intelligence'"
            ],
            "application/vnd.google.colaboratory.intrinsic+json": {
              "type": "string"
            }
          },
          "metadata": {},
          "execution_count": 88
        }
      ]
    },
    {
      "cell_type": "code",
      "source": [
        "kalame[-3:]"
      ],
      "metadata": {
        "colab": {
          "base_uri": "https://localhost:8080/",
          "height": 36
        },
        "id": "6weO0oRdQGPV",
        "outputId": "ac1961d2-8f1f-45cc-a3e7-98b4d58981f4"
      },
      "execution_count": 91,
      "outputs": [
        {
          "output_type": "execute_result",
          "data": {
            "text/plain": [
              "'nce'"
            ],
            "application/vnd.google.colaboratory.intrinsic+json": {
              "type": "string"
            }
          },
          "metadata": {},
          "execution_count": 91
        }
      ]
    },
    {
      "cell_type": "code",
      "source": [
        "kalame[:-3]"
      ],
      "metadata": {
        "colab": {
          "base_uri": "https://localhost:8080/",
          "height": 36
        },
        "id": "gA1_4eS8QSCM",
        "outputId": "4d382dbb-48aa-4e70-f154-28cbd05dae80"
      },
      "execution_count": 92,
      "outputs": [
        {
          "output_type": "execute_result",
          "data": {
            "text/plain": [
              "'Artificial Intellige'"
            ],
            "application/vnd.google.colaboratory.intrinsic+json": {
              "type": "string"
            }
          },
          "metadata": {},
          "execution_count": 92
        }
      ]
    },
    {
      "cell_type": "markdown",
      "source": [
        "> zamani ke index midim, index haro migire be gheir az akhari yani agar begim [0:6] az index 0 shuru mikone va ta index 6 mire ama khode index 6 ro baraye ma namayesh nemide."
      ],
      "metadata": {
        "id": "PSxzGH9xQg4x"
      }
    },
    {
      "cell_type": "markdown",
      "source": [
        "## List\n",
        "\n",
        "baraye estefade az list ha bayad az bracket estefade bokonim"
      ],
      "metadata": {
        "id": "5rmgLUjcQ_br"
      }
    },
    {
      "cell_type": "code",
      "source": [
        "liste_man = [2, 4, 6, 8, 10, 12, 14]"
      ],
      "metadata": {
        "id": "4qupvbSOUFXu"
      },
      "execution_count": 97,
      "outputs": []
    },
    {
      "cell_type": "code",
      "source": [
        "type(liste_man)"
      ],
      "metadata": {
        "colab": {
          "base_uri": "https://localhost:8080/"
        },
        "id": "D-nsL_NRUV0Z",
        "outputId": "31022b36-d995-43a4-cadc-e79881749bdc"
      },
      "execution_count": 98,
      "outputs": [
        {
          "output_type": "execute_result",
          "data": {
            "text/plain": [
              "list"
            ]
          },
          "metadata": {},
          "execution_count": 98
        }
      ]
    },
    {
      "cell_type": "code",
      "source": [
        "len(liste_man)"
      ],
      "metadata": {
        "colab": {
          "base_uri": "https://localhost:8080/"
        },
        "id": "EzkHJaHfUXja",
        "outputId": "74d7b1ce-7556-46cc-d0fc-c25d10e2ff8d"
      },
      "execution_count": 99,
      "outputs": [
        {
          "output_type": "execute_result",
          "data": {
            "text/plain": [
              "7"
            ]
          },
          "metadata": {},
          "execution_count": 99
        }
      ]
    },
    {
      "cell_type": "code",
      "source": [
        "liste_man[-1]"
      ],
      "metadata": {
        "colab": {
          "base_uri": "https://localhost:8080/"
        },
        "id": "YgRGY3Z9UdAv",
        "outputId": "cae8e66d-11d5-4e2d-ff17-6f1da0c227d2"
      },
      "execution_count": 100,
      "outputs": [
        {
          "output_type": "execute_result",
          "data": {
            "text/plain": [
              "14"
            ]
          },
          "metadata": {},
          "execution_count": 100
        }
      ]
    },
    {
      "cell_type": "code",
      "source": [
        "liste_man[0]"
      ],
      "metadata": {
        "colab": {
          "base_uri": "https://localhost:8080/"
        },
        "id": "nzf3y4CSUm0M",
        "outputId": "96dd79bc-58b2-4929-f10a-b7b1cb147d08"
      },
      "execution_count": 101,
      "outputs": [
        {
          "output_type": "execute_result",
          "data": {
            "text/plain": [
              "2"
            ]
          },
          "metadata": {},
          "execution_count": 101
        }
      ]
    },
    {
      "cell_type": "code",
      "source": [
        "liste_man[4:]"
      ],
      "metadata": {
        "colab": {
          "base_uri": "https://localhost:8080/"
        },
        "id": "U9a3nxkkUo3I",
        "outputId": "708748b5-dcaa-4c55-b77b-e92e7bbf2116"
      },
      "execution_count": 102,
      "outputs": [
        {
          "output_type": "execute_result",
          "data": {
            "text/plain": [
              "[10, 12, 14]"
            ]
          },
          "metadata": {},
          "execution_count": 102
        }
      ]
    },
    {
      "cell_type": "code",
      "source": [
        "name_list = ['mohamad', 'ali', 'nazanin', 5]"
      ],
      "metadata": {
        "id": "O93wfyMWUqrZ"
      },
      "execution_count": 107,
      "outputs": []
    },
    {
      "cell_type": "code",
      "source": [
        "len(name_list)"
      ],
      "metadata": {
        "colab": {
          "base_uri": "https://localhost:8080/"
        },
        "id": "ZX3boKT-U9Cg",
        "outputId": "10fd076d-ef69-450c-8129-bb8853efaf3d"
      },
      "execution_count": 108,
      "outputs": [
        {
          "output_type": "execute_result",
          "data": {
            "text/plain": [
              "4"
            ]
          },
          "metadata": {},
          "execution_count": 108
        }
      ]
    },
    {
      "cell_type": "code",
      "source": [
        "name_list[0]"
      ],
      "metadata": {
        "colab": {
          "base_uri": "https://localhost:8080/",
          "height": 36
        },
        "id": "fXzWW1dhU-jv",
        "outputId": "5c0c7020-5b41-4e66-9545-2fe61635af87"
      },
      "execution_count": 109,
      "outputs": [
        {
          "output_type": "execute_result",
          "data": {
            "text/plain": [
              "'mohamad'"
            ],
            "application/vnd.google.colaboratory.intrinsic+json": {
              "type": "string"
            }
          },
          "metadata": {},
          "execution_count": 109
        }
      ]
    },
    {
      "cell_type": "code",
      "source": [
        "name_list[-1]"
      ],
      "metadata": {
        "colab": {
          "base_uri": "https://localhost:8080/"
        },
        "id": "e6VNL4IlVAa0",
        "outputId": "727f20cc-2764-446a-bb10-6e3f4d9e4b5c"
      },
      "execution_count": 110,
      "outputs": [
        {
          "output_type": "execute_result",
          "data": {
            "text/plain": [
              "5"
            ]
          },
          "metadata": {},
          "execution_count": 110
        }
      ]
    },
    {
      "cell_type": "code",
      "source": [
        "name_family_list = [['mohamad', 'ali', 'nazanin'], [18, 22, 19]]"
      ],
      "metadata": {
        "id": "Xc3gSb1qVCmR"
      },
      "execution_count": 111,
      "outputs": []
    },
    {
      "cell_type": "code",
      "source": [
        "len(name_family_list)"
      ],
      "metadata": {
        "colab": {
          "base_uri": "https://localhost:8080/"
        },
        "id": "nkwDYyghVgn_",
        "outputId": "5094277a-7201-47ee-e3c1-1a488b9d92f0"
      },
      "execution_count": 112,
      "outputs": [
        {
          "output_type": "execute_result",
          "data": {
            "text/plain": [
              "2"
            ]
          },
          "metadata": {},
          "execution_count": 112
        }
      ]
    },
    {
      "cell_type": "code",
      "source": [
        "name_family_list[0]"
      ],
      "metadata": {
        "colab": {
          "base_uri": "https://localhost:8080/"
        },
        "id": "uAKKH9P3Vuuu",
        "outputId": "7d8890c9-cffe-4623-e5de-99f0b8b803a0"
      },
      "execution_count": 113,
      "outputs": [
        {
          "output_type": "execute_result",
          "data": {
            "text/plain": [
              "['mohamad', 'ali', 'nazanin']"
            ]
          },
          "metadata": {},
          "execution_count": 113
        }
      ]
    },
    {
      "cell_type": "code",
      "source": [
        "name_family_list[1]"
      ],
      "metadata": {
        "colab": {
          "base_uri": "https://localhost:8080/"
        },
        "id": "dKtUfO2jV0bj",
        "outputId": "7f604605-03f2-4a60-b7b7-906334d8da1a"
      },
      "execution_count": 120,
      "outputs": [
        {
          "output_type": "execute_result",
          "data": {
            "text/plain": [
              "[18, 22, 19]"
            ]
          },
          "metadata": {},
          "execution_count": 120
        }
      ]
    },
    {
      "cell_type": "code",
      "source": [
        "name_family_list[0][0]"
      ],
      "metadata": {
        "colab": {
          "base_uri": "https://localhost:8080/",
          "height": 36
        },
        "id": "Zv3E4DRmV3q2",
        "outputId": "abf843dc-e70f-4f83-c104-fd37629ed819"
      },
      "execution_count": 115,
      "outputs": [
        {
          "output_type": "execute_result",
          "data": {
            "text/plain": [
              "'mohamad'"
            ],
            "application/vnd.google.colaboratory.intrinsic+json": {
              "type": "string"
            }
          },
          "metadata": {},
          "execution_count": 115
        }
      ]
    },
    {
      "cell_type": "code",
      "source": [
        "name_family_list[1][:1]"
      ],
      "metadata": {
        "colab": {
          "base_uri": "https://localhost:8080/"
        },
        "id": "g9pucrMTWCr8",
        "outputId": "a8cec21b-2ea3-462f-8f85-42e18fa3e2d4"
      },
      "execution_count": 118,
      "outputs": [
        {
          "output_type": "execute_result",
          "data": {
            "text/plain": [
              "[18]"
            ]
          },
          "metadata": {},
          "execution_count": 118
        }
      ]
    },
    {
      "cell_type": "code",
      "source": [
        ""
      ],
      "metadata": {
        "id": "th-WyyaWWGSQ"
      },
      "execution_count": null,
      "outputs": []
    }
  ]
}