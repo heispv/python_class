{
  "nbformat": 4,
  "nbformat_minor": 0,
  "metadata": {
    "colab": {
      "name": "01-python-basic.ipynb",
      "provenance": [],
      "collapsed_sections": []
    },
    "kernelspec": {
      "name": "python3",
      "display_name": "Python 3"
    },
    "language_info": {
      "name": "python"
    }
  },
  "cells": [
    {
      "cell_type": "markdown",
      "source": [
        "##Numbers"
      ],
      "metadata": {
        "id": "zVnxx3NnvHOP"
      }
    },
    {
      "cell_type": "markdown",
      "source": [
        "Ma mitoonim az `Python` be onvane yek mashin hesabe sade estefade konim.\n",
        "\n",
        "mitoonim be komake oon `jam` `taghsim` `zarb` `tavan` va... ro anjam bedim"
      ],
      "metadata": {
        "id": "_OXpFDA7ltCa"
      }
    },
    {
      "cell_type": "markdown",
      "source": [
        "### jam, kam, zarb, taghsim"
      ],
      "metadata": {
        "id": "kvF3x96ioAdJ"
      }
    },
    {
      "cell_type": "code",
      "source": [
        "7 + 3"
      ],
      "metadata": {
        "colab": {
          "base_uri": "https://localhost:8080/"
        },
        "id": "1BqNiFDBl_cq",
        "outputId": "0aee33b3-61f3-4e56-e8b5-85a29ca6c20f"
      },
      "execution_count": null,
      "outputs": [
        {
          "output_type": "execute_result",
          "data": {
            "text/plain": [
              "10"
            ]
          },
          "metadata": {},
          "execution_count": 3
        }
      ]
    },
    {
      "cell_type": "code",
      "source": [
        "55 - 7 * 3"
      ],
      "metadata": {
        "colab": {
          "base_uri": "https://localhost:8080/"
        },
        "id": "Z6IJW99qmFXK",
        "outputId": "836dec94-0453-4a91-a5b2-0653a09820d6"
      },
      "execution_count": null,
      "outputs": [
        {
          "output_type": "execute_result",
          "data": {
            "text/plain": [
              "34"
            ]
          },
          "metadata": {},
          "execution_count": 4
        }
      ]
    },
    {
      "cell_type": "code",
      "source": [
        "(55 - 7) / 3"
      ],
      "metadata": {
        "colab": {
          "base_uri": "https://localhost:8080/"
        },
        "id": "guRZ4uJ-mLRD",
        "outputId": "a57b1f92-e508-4359-f782-a62ea0b41d5c"
      },
      "execution_count": null,
      "outputs": [
        {
          "output_type": "execute_result",
          "data": {
            "text/plain": [
              "16.0"
            ]
          },
          "metadata": {},
          "execution_count": 5
        }
      ]
    },
    {
      "cell_type": "markdown",
      "source": [
        "> Taghsim hamishe be ma `float` bar migardoone"
      ],
      "metadata": {
        "id": "SLDqlQn4m4-L"
      }
    },
    {
      "cell_type": "code",
      "source": [
        "type(16), type(16.0)"
      ],
      "metadata": {
        "colab": {
          "base_uri": "https://localhost:8080/"
        },
        "id": "FFEQCGVym_8h",
        "outputId": "6c6f46ef-8e6e-4154-ed07-3f6ec050cc96"
      },
      "execution_count": null,
      "outputs": [
        {
          "output_type": "execute_result",
          "data": {
            "text/plain": [
              "(int, float)"
            ]
          },
          "metadata": {},
          "execution_count": 7
        }
      ]
    },
    {
      "cell_type": "code",
      "source": [
        "12 / 7"
      ],
      "metadata": {
        "colab": {
          "base_uri": "https://localhost:8080/"
        },
        "id": "2XbxU5e6nDwG",
        "outputId": "94c5e31a-94e1-4dac-fdc9-b68cc0cdcf5a"
      },
      "execution_count": null,
      "outputs": [
        {
          "output_type": "execute_result",
          "data": {
            "text/plain": [
              "1.7142857142857142"
            ]
          },
          "metadata": {},
          "execution_count": 9
        }
      ]
    },
    {
      "cell_type": "markdown",
      "source": [
        "### Baghie chizaye taghsim"
      ],
      "metadata": {
        "id": "_Er1i-YsnhNw"
      }
    },
    {
      "cell_type": "code",
      "source": [
        "12 / 7"
      ],
      "metadata": {
        "colab": {
          "base_uri": "https://localhost:8080/"
        },
        "id": "j70WyFBWnkB4",
        "outputId": "05fbc7e7-532c-4849-ce5d-d39ffd549169"
      },
      "execution_count": null,
      "outputs": [
        {
          "output_type": "execute_result",
          "data": {
            "text/plain": [
              "1.7142857142857142"
            ]
          },
          "metadata": {},
          "execution_count": 11
        }
      ]
    },
    {
      "cell_type": "code",
      "source": [
        "12 // 7"
      ],
      "metadata": {
        "colab": {
          "base_uri": "https://localhost:8080/"
        },
        "id": "1xKR0zXqnNOO",
        "outputId": "532d577c-3e41-4505-a3b8-a45352c32480"
      },
      "execution_count": null,
      "outputs": [
        {
          "output_type": "execute_result",
          "data": {
            "text/plain": [
              "1"
            ]
          },
          "metadata": {},
          "execution_count": 10
        }
      ]
    },
    {
      "cell_type": "markdown",
      "source": [
        "> Agar az `//` estefade konim adad ro taghsim mikone va oon ro be adade payin gerd mikone."
      ],
      "metadata": {
        "id": "WAhKPi_nnUvQ"
      }
    },
    {
      "cell_type": "code",
      "source": [
        "# Baraye be dast avordane baghi mande\n",
        "12 % 7"
      ],
      "metadata": {
        "colab": {
          "base_uri": "https://localhost:8080/"
        },
        "id": "eD3aBlA3nUHJ",
        "outputId": "860dd761-c9e3-490f-d82b-5368343244dd"
      },
      "execution_count": null,
      "outputs": [
        {
          "output_type": "execute_result",
          "data": {
            "text/plain": [
              "5"
            ]
          },
          "metadata": {},
          "execution_count": 13
        }
      ]
    },
    {
      "cell_type": "markdown",
      "source": [
        "> Baraye bedast avardane baghi mande mitoonim az `%` estefade konim."
      ],
      "metadata": {
        "id": "jMJ9Ak6cnxf4"
      }
    },
    {
      "cell_type": "markdown",
      "source": [
        "### Tavan"
      ],
      "metadata": {
        "id": "X9hXGOcEnSFr"
      }
    },
    {
      "cell_type": "code",
      "source": [
        "3 ** 2"
      ],
      "metadata": {
        "colab": {
          "base_uri": "https://localhost:8080/"
        },
        "id": "jWFRjRnAoSID",
        "outputId": "5804e519-5a71-404d-de54-9d3c1824370b"
      },
      "execution_count": null,
      "outputs": [
        {
          "output_type": "execute_result",
          "data": {
            "text/plain": [
              "9"
            ]
          },
          "metadata": {},
          "execution_count": 15
        }
      ]
    },
    {
      "cell_type": "markdown",
      "source": [
        "## Variables"
      ],
      "metadata": {
        "id": "_GQk8yl6oVt_"
      }
    },
    {
      "cell_type": "markdown",
      "source": [
        "Be in mozoo deghat konim ke `=` moasvi nist, balke darim harchi ke samte rast hasto mirizim too samte chap.\n",
        "\n",
        "baraye estefade az mosavi bayad az `==` estefade konim."
      ],
      "metadata": {
        "id": "_u4PAg3-pSL3"
      }
    },
    {
      "cell_type": "code",
      "source": [
        "tool = 3\n",
        "arz = 5\n",
        "masahat = tool * arz\n",
        "mohit = tool * 2 + arz * 2"
      ],
      "metadata": {
        "id": "fpmtRkr4omeL"
      },
      "execution_count": null,
      "outputs": []
    },
    {
      "cell_type": "code",
      "source": [
        "tool == 4"
      ],
      "metadata": {
        "colab": {
          "base_uri": "https://localhost:8080/"
        },
        "id": "9xjzJmGDpnCQ",
        "outputId": "27d381fa-3119-4570-dfeb-3b123beb9de3"
      },
      "execution_count": null,
      "outputs": [
        {
          "output_type": "execute_result",
          "data": {
            "text/plain": [
              "False"
            ]
          },
          "metadata": {},
          "execution_count": 37
        }
      ]
    },
    {
      "cell_type": "code",
      "source": [
        "type(tool == 3)"
      ],
      "metadata": {
        "colab": {
          "base_uri": "https://localhost:8080/"
        },
        "id": "vh8WQeSRppPH",
        "outputId": "a268c6e8-5cae-40b4-c456-1b388e6d71e0"
      },
      "execution_count": null,
      "outputs": [
        {
          "output_type": "execute_result",
          "data": {
            "text/plain": [
              "bool"
            ]
          },
          "metadata": {},
          "execution_count": 39
        }
      ]
    },
    {
      "cell_type": "code",
      "source": [
        "masahat"
      ],
      "metadata": {
        "colab": {
          "base_uri": "https://localhost:8080/"
        },
        "id": "iU6yC1sTospT",
        "outputId": "5b4b24fc-9c35-4249-9393-beb1b99205b4"
      },
      "execution_count": null,
      "outputs": [
        {
          "output_type": "execute_result",
          "data": {
            "text/plain": [
              "15"
            ]
          },
          "metadata": {},
          "execution_count": 30
        }
      ]
    },
    {
      "cell_type": "code",
      "source": [
        "mohit"
      ],
      "metadata": {
        "colab": {
          "base_uri": "https://localhost:8080/"
        },
        "id": "uAORrLDCouoK",
        "outputId": "8cdc8d9b-15c0-4d91-9609-a006f97f38eb"
      },
      "execution_count": null,
      "outputs": [
        {
          "output_type": "execute_result",
          "data": {
            "text/plain": [
              "16"
            ]
          },
          "metadata": {},
          "execution_count": 31
        }
      ]
    },
    {
      "cell_type": "code",
      "source": [
        "type(masahat), type(mohit), type(tool), type(arz)"
      ],
      "metadata": {
        "colab": {
          "base_uri": "https://localhost:8080/"
        },
        "id": "DkmBbyfto1AM",
        "outputId": "b53496c3-37cf-4adb-da66-005a27cecf90"
      },
      "execution_count": null,
      "outputs": [
        {
          "output_type": "execute_result",
          "data": {
            "text/plain": [
              "(int, int, int, int)"
            ]
          },
          "metadata": {},
          "execution_count": 33
        }
      ]
    },
    {
      "cell_type": "code",
      "source": [
        "tool = 3.\n",
        "arz = 5\n",
        "masahat = tool * arz\n",
        "mohit = tool * 2 + arz * 2"
      ],
      "metadata": {
        "id": "0i1Yy44Fo5XZ"
      },
      "execution_count": null,
      "outputs": []
    },
    {
      "cell_type": "code",
      "source": [
        "type(masahat), type(mohit), type(tool), type(arz)"
      ],
      "metadata": {
        "colab": {
          "base_uri": "https://localhost:8080/"
        },
        "id": "GbpCniWwpHjO",
        "outputId": "6b90a0bf-cd35-4e81-e864-ea58c68dc9b5"
      },
      "execution_count": null,
      "outputs": [
        {
          "output_type": "execute_result",
          "data": {
            "text/plain": [
              "(float, float, float, int)"
            ]
          },
          "metadata": {},
          "execution_count": 41
        }
      ]
    },
    {
      "cell_type": "code",
      "source": [
        "masahat"
      ],
      "metadata": {
        "colab": {
          "base_uri": "https://localhost:8080/"
        },
        "id": "vQWP9ktjqA9J",
        "outputId": "f0eb1f4e-c635-41f0-a7e5-ba13b54138ac"
      },
      "execution_count": null,
      "outputs": [
        {
          "output_type": "execute_result",
          "data": {
            "text/plain": [
              "15.0"
            ]
          },
          "metadata": {},
          "execution_count": 45
        }
      ]
    },
    {
      "cell_type": "code",
      "source": [
        "adade_ashari = 12 / 7"
      ],
      "metadata": {
        "id": "PXlXwBJcqbmy"
      },
      "execution_count": null,
      "outputs": []
    },
    {
      "cell_type": "code",
      "source": [
        "adade_ashari"
      ],
      "metadata": {
        "colab": {
          "base_uri": "https://localhost:8080/"
        },
        "id": "1fERTDPoqfQ1",
        "outputId": "e2051f22-9367-4a94-a70c-9ba136e165fd"
      },
      "execution_count": null,
      "outputs": [
        {
          "output_type": "execute_result",
          "data": {
            "text/plain": [
              "1.7142857142857142"
            ]
          },
          "metadata": {},
          "execution_count": 47
        }
      ]
    },
    {
      "cell_type": "code",
      "source": [
        "round(adade_ashari, 4)"
      ],
      "metadata": {
        "colab": {
          "base_uri": "https://localhost:8080/"
        },
        "id": "myNrbMtcqgUi",
        "outputId": "7552b185-b05b-4eea-b130-1aded4abbe3e"
      },
      "execution_count": null,
      "outputs": [
        {
          "output_type": "execute_result",
          "data": {
            "text/plain": [
              "1.7143"
            ]
          },
          "metadata": {},
          "execution_count": 50
        }
      ]
    },
    {
      "cell_type": "markdown",
      "source": [
        "## Strings\n",
        "\n",
        "string ya hamoon reshte"
      ],
      "metadata": {
        "id": "ArHGBsUWqkHE"
      }
    },
    {
      "cell_type": "code",
      "source": [
        "\"23\" + \"2\""
      ],
      "metadata": {
        "colab": {
          "base_uri": "https://localhost:8080/",
          "height": 36
        },
        "id": "ngzvoNOXqyTx",
        "outputId": "85bedf77-dbb7-4d7d-f9cc-ed88f246fca3"
      },
      "execution_count": null,
      "outputs": [
        {
          "output_type": "execute_result",
          "data": {
            "text/plain": [
              "'232'"
            ],
            "application/vnd.google.colaboratory.intrinsic+json": {
              "type": "string"
            }
          },
          "metadata": {},
          "execution_count": 54
        }
      ]
    },
    {
      "cell_type": "markdown",
      "source": [
        "> Chon String(reshte) ast pas miad kenare ham gharar mide faghat"
      ],
      "metadata": {
        "id": "m7JOa-9Cq75Q"
      }
    },
    {
      "cell_type": "code",
      "source": [
        "esm = 'Peyman'\n",
        "famili = 'Vahidi'"
      ],
      "metadata": {
        "id": "97aVT7thrJ9D"
      },
      "execution_count": null,
      "outputs": []
    },
    {
      "cell_type": "code",
      "source": [
        "esm + \" \"+  famili"
      ],
      "metadata": {
        "colab": {
          "base_uri": "https://localhost:8080/",
          "height": 36
        },
        "id": "_27Cg7VerPu9",
        "outputId": "0ddb8ee2-93e7-42c8-af74-619d7de22c81"
      },
      "execution_count": null,
      "outputs": [
        {
          "output_type": "execute_result",
          "data": {
            "text/plain": [
              "'Peyman Vahidi'"
            ],
            "application/vnd.google.colaboratory.intrinsic+json": {
              "type": "string"
            }
          },
          "metadata": {},
          "execution_count": 58
        }
      ]
    },
    {
      "cell_type": "code",
      "source": [
        "type(esm), type(famili)"
      ],
      "metadata": {
        "colab": {
          "base_uri": "https://localhost:8080/"
        },
        "id": "4fQGvfLSrQ71",
        "outputId": "4b6cd0db-2b70-4704-8be2-904a8e3b4317"
      },
      "execution_count": null,
      "outputs": [
        {
          "output_type": "execute_result",
          "data": {
            "text/plain": [
              "(str, str)"
            ]
          },
          "metadata": {},
          "execution_count": 61
        }
      ]
    },
    {
      "cell_type": "markdown",
      "source": [
        "Age nakham in \" \" tooye khuruji man zaher beshe bayad chikar konam?"
      ],
      "metadata": {
        "id": "FXbK7mbmroA4"
      }
    },
    {
      "cell_type": "code",
      "source": [
        "print(\"Hello be to dooste man\")"
      ],
      "metadata": {
        "colab": {
          "base_uri": "https://localhost:8080/"
        },
        "id": "cLDg1f2CrX08",
        "outputId": "bd7b926b-d0ae-45bf-fb11-a0692ca445ee"
      },
      "execution_count": null,
      "outputs": [
        {
          "output_type": "stream",
          "name": "stdout",
          "text": [
            "Hello be to dooste man\n"
          ]
        }
      ]
    },
    {
      "cell_type": "code",
      "source": [
        "print(\"\"\"Hello my friend\n",
        "I hope you are doing great\"\"\")"
      ],
      "metadata": {
        "colab": {
          "base_uri": "https://localhost:8080/"
        },
        "id": "NKqeGV4ArfI2",
        "outputId": "1f4c6d33-eeb0-4be1-ef34-3e1363948542"
      },
      "execution_count": null,
      "outputs": [
        {
          "output_type": "stream",
          "name": "stdout",
          "text": [
            "Hello my friend\n",
            "I hope you are doing great\n"
          ]
        }
      ]
    },
    {
      "cell_type": "code",
      "source": [
        "print(f\"Salam esme man {esm} ast\\nHamchenin family man {famili} ast\")"
      ],
      "metadata": {
        "colab": {
          "base_uri": "https://localhost:8080/"
        },
        "id": "2QJLWbfYr7XE",
        "outputId": "fd9aaae3-c40b-46f4-840c-f915c7c1acd8"
      },
      "execution_count": null,
      "outputs": [
        {
          "output_type": "stream",
          "name": "stdout",
          "text": [
            "Salam esme man Peyman ast\n",
            "Hamchenin family man Vahidi ast\n"
          ]
        }
      ]
    },
    {
      "cell_type": "code",
      "source": [
        "print(\"Tooye mohasebati ke dashtim mohit %d va masahat %d bood\\nAdade ashari barabar bood ba %.4f\"%(mohit, masahat, adade_ashari))"
      ],
      "metadata": {
        "colab": {
          "base_uri": "https://localhost:8080/"
        },
        "id": "sNviKOmBsBYw",
        "outputId": "6ed8782f-6add-4589-894c-224b77753485"
      },
      "execution_count": null,
      "outputs": [
        {
          "output_type": "stream",
          "name": "stdout",
          "text": [
            "Tooye mohasebati ke dashtim mohit 16 va masahat 15 bood\n",
            "Adade ashari barabar bood ba 1.7143\n"
          ]
        }
      ]
    },
    {
      "cell_type": "markdown",
      "source": [
        "### index haye string"
      ],
      "metadata": {
        "id": "p1IfxVUusQiY"
      }
    },
    {
      "cell_type": "code",
      "source": [
        "kalame = 'Artificial Intelligence'"
      ],
      "metadata": {
        "id": "Cj9i6hDetA66"
      },
      "execution_count": null,
      "outputs": []
    },
    {
      "cell_type": "code",
      "source": [
        "kalame[0]"
      ],
      "metadata": {
        "colab": {
          "base_uri": "https://localhost:8080/",
          "height": 36
        },
        "id": "b3aoxflGtDMO",
        "outputId": "50042c1d-33e0-4dd4-ca1c-98346eed052d"
      },
      "execution_count": null,
      "outputs": [
        {
          "output_type": "execute_result",
          "data": {
            "text/plain": [
              "'A'"
            ],
            "application/vnd.google.colaboratory.intrinsic+json": {
              "type": "string"
            }
          },
          "metadata": {},
          "execution_count": 103
        }
      ]
    },
    {
      "cell_type": "code",
      "source": [
        "kalame[3]"
      ],
      "metadata": {
        "colab": {
          "base_uri": "https://localhost:8080/",
          "height": 36
        },
        "id": "jLqnKQD8tEeM",
        "outputId": "a4bee9a6-bd69-45bd-8974-ad25c6767977"
      },
      "execution_count": null,
      "outputs": [
        {
          "output_type": "execute_result",
          "data": {
            "text/plain": [
              "'i'"
            ],
            "application/vnd.google.colaboratory.intrinsic+json": {
              "type": "string"
            }
          },
          "metadata": {},
          "execution_count": 104
        }
      ]
    },
    {
      "cell_type": "code",
      "source": [
        "len(kalame)"
      ],
      "metadata": {
        "colab": {
          "base_uri": "https://localhost:8080/"
        },
        "id": "pQf7UPMKtUKQ",
        "outputId": "d84b05c5-f043-402b-9b41-24bc405b3164"
      },
      "execution_count": null,
      "outputs": [
        {
          "output_type": "execute_result",
          "data": {
            "text/plain": [
              "23"
            ]
          },
          "metadata": {},
          "execution_count": 105
        }
      ]
    },
    {
      "cell_type": "code",
      "source": [
        "kalame[len(kalame) - 1]"
      ],
      "metadata": {
        "colab": {
          "base_uri": "https://localhost:8080/",
          "height": 36
        },
        "id": "Ik-7OyWrtVXF",
        "outputId": "9a6a8240-4941-4530-da62-89768ab2d076"
      },
      "execution_count": null,
      "outputs": [
        {
          "output_type": "execute_result",
          "data": {
            "text/plain": [
              "'e'"
            ],
            "application/vnd.google.colaboratory.intrinsic+json": {
              "type": "string"
            }
          },
          "metadata": {},
          "execution_count": 107
        }
      ]
    },
    {
      "cell_type": "code",
      "source": [
        "kalame[5]"
      ],
      "metadata": {
        "colab": {
          "base_uri": "https://localhost:8080/",
          "height": 36
        },
        "id": "dcSd54tvtWkd",
        "outputId": "aea72647-5570-444f-b8f6-d5d3a897f0f1"
      },
      "execution_count": null,
      "outputs": [
        {
          "output_type": "execute_result",
          "data": {
            "text/plain": [
              "'i'"
            ],
            "application/vnd.google.colaboratory.intrinsic+json": {
              "type": "string"
            }
          },
          "metadata": {},
          "execution_count": 108
        }
      ]
    },
    {
      "cell_type": "code",
      "source": [
        "kalame[:2]"
      ],
      "metadata": {
        "colab": {
          "base_uri": "https://localhost:8080/",
          "height": 36
        },
        "id": "_-JaZgu4tZcc",
        "outputId": "bb3605c3-cf34-49cb-c763-6f13bb5df0ff"
      },
      "execution_count": null,
      "outputs": [
        {
          "output_type": "execute_result",
          "data": {
            "text/plain": [
              "'Ar'"
            ],
            "application/vnd.google.colaboratory.intrinsic+json": {
              "type": "string"
            }
          },
          "metadata": {},
          "execution_count": 109
        }
      ]
    },
    {
      "cell_type": "code",
      "source": [
        "kalame[4:]"
      ],
      "metadata": {
        "colab": {
          "base_uri": "https://localhost:8080/",
          "height": 36
        },
        "id": "H_kcHXNntdyg",
        "outputId": "0f698afc-e8fa-478c-e253-a2deeeabf44b"
      },
      "execution_count": null,
      "outputs": [
        {
          "output_type": "execute_result",
          "data": {
            "text/plain": [
              "'ficial Intelligence'"
            ],
            "application/vnd.google.colaboratory.intrinsic+json": {
              "type": "string"
            }
          },
          "metadata": {},
          "execution_count": 114
        }
      ]
    },
    {
      "cell_type": "code",
      "source": [
        "kalame[3:12]"
      ],
      "metadata": {
        "colab": {
          "base_uri": "https://localhost:8080/",
          "height": 36
        },
        "id": "Zt103AJVt5Sj",
        "outputId": "ee7fd6e2-2a93-415a-9fc0-41dd62df6945"
      },
      "execution_count": null,
      "outputs": [
        {
          "output_type": "execute_result",
          "data": {
            "text/plain": [
              "'ificial I'"
            ],
            "application/vnd.google.colaboratory.intrinsic+json": {
              "type": "string"
            }
          },
          "metadata": {},
          "execution_count": 113
        }
      ]
    },
    {
      "cell_type": "code",
      "source": [
        "kalame[-1]"
      ],
      "metadata": {
        "colab": {
          "base_uri": "https://localhost:8080/",
          "height": 36
        },
        "id": "Oj2fQeCotf8i",
        "outputId": "0ac47783-b105-4244-e837-019b61219fec"
      },
      "execution_count": null,
      "outputs": [
        {
          "output_type": "execute_result",
          "data": {
            "text/plain": [
              "'e'"
            ],
            "application/vnd.google.colaboratory.intrinsic+json": {
              "type": "string"
            }
          },
          "metadata": {},
          "execution_count": 115
        }
      ]
    },
    {
      "cell_type": "markdown",
      "source": [
        "hamishe index gozario be in soorat bebinin `[      )`"
      ],
      "metadata": {
        "id": "gBZajj1ItsPY"
      }
    },
    {
      "cell_type": "code",
      "source": [
        "kalame[:-4]"
      ],
      "metadata": {
        "colab": {
          "base_uri": "https://localhost:8080/",
          "height": 36
        },
        "id": "DW4gGEkCthf1",
        "outputId": "0abab8f2-d893-4f10-fd68-96e63239c18b"
      },
      "execution_count": null,
      "outputs": [
        {
          "output_type": "execute_result",
          "data": {
            "text/plain": [
              "'Artificial Intellig'"
            ],
            "application/vnd.google.colaboratory.intrinsic+json": {
              "type": "string"
            }
          },
          "metadata": {},
          "execution_count": 117
        }
      ]
    },
    {
      "cell_type": "code",
      "source": [
        "kalame[-4:]"
      ],
      "metadata": {
        "colab": {
          "base_uri": "https://localhost:8080/",
          "height": 36
        },
        "id": "m0GlB6nrtjzM",
        "outputId": "8f20853e-05db-404b-a3da-b4dc2ea779f7"
      },
      "execution_count": null,
      "outputs": [
        {
          "output_type": "execute_result",
          "data": {
            "text/plain": [
              "'ence'"
            ],
            "application/vnd.google.colaboratory.intrinsic+json": {
              "type": "string"
            }
          },
          "metadata": {},
          "execution_count": 119
        }
      ]
    },
    {
      "cell_type": "markdown",
      "source": [
        "## List\n",
        "\n",
        "Hamoontor ke az esmesh moshakhase yek seri data ro miad kenare ham mizare va mesle yel list oon ro be ma tahvil mide"
      ],
      "metadata": {
        "id": "QIbJSuGttlGd"
      }
    },
    {
      "cell_type": "code",
      "source": [
        "liste_man = [2, 4, 6, 8, 10]"
      ],
      "metadata": {
        "id": "PAhVIrfsvN50"
      },
      "execution_count": null,
      "outputs": []
    },
    {
      "cell_type": "code",
      "source": [
        "liste_man[1]"
      ],
      "metadata": {
        "colab": {
          "base_uri": "https://localhost:8080/"
        },
        "id": "kB-Jt833vYXZ",
        "outputId": "8ba7be88-d7e8-481a-9f13-828443dfc503"
      },
      "execution_count": null,
      "outputs": [
        {
          "output_type": "execute_result",
          "data": {
            "text/plain": [
              "4"
            ]
          },
          "metadata": {},
          "execution_count": 125
        }
      ]
    },
    {
      "cell_type": "code",
      "source": [
        "liste_man = [['peyman', 'vahidi', 24], ['Ali', \"Yazarloo\", 22]]"
      ],
      "metadata": {
        "id": "l4IzGj2YvZil"
      },
      "execution_count": null,
      "outputs": []
    },
    {
      "cell_type": "code",
      "source": [
        "liste_man[0]"
      ],
      "metadata": {
        "colab": {
          "base_uri": "https://localhost:8080/"
        },
        "id": "HeqN701rvkME",
        "outputId": "ff87bc0c-307c-42ff-fa41-5680760cdade"
      },
      "execution_count": null,
      "outputs": [
        {
          "output_type": "execute_result",
          "data": {
            "text/plain": [
              "['peyman', 'vahidi', 24]"
            ]
          },
          "metadata": {},
          "execution_count": 136
        }
      ]
    },
    {
      "cell_type": "code",
      "source": [
        "liste_man[1]"
      ],
      "metadata": {
        "colab": {
          "base_uri": "https://localhost:8080/"
        },
        "id": "IumI9KjUvrme",
        "outputId": "86375399-4519-4f38-b099-04ad0ea1402d"
      },
      "execution_count": null,
      "outputs": [
        {
          "output_type": "execute_result",
          "data": {
            "text/plain": [
              "['Ali', 'Yazarloo', 22]"
            ]
          },
          "metadata": {},
          "execution_count": 137
        }
      ]
    },
    {
      "cell_type": "code",
      "source": [
        "liste_man[0][0]"
      ],
      "metadata": {
        "colab": {
          "base_uri": "https://localhost:8080/",
          "height": 36
        },
        "id": "iVUihGbvv7TO",
        "outputId": "84eb33df-7c5e-4826-faf3-f728cfa0cc5b"
      },
      "execution_count": null,
      "outputs": [
        {
          "output_type": "execute_result",
          "data": {
            "text/plain": [
              "'peyman'"
            ],
            "application/vnd.google.colaboratory.intrinsic+json": {
              "type": "string"
            }
          },
          "metadata": {},
          "execution_count": 138
        }
      ]
    },
    {
      "cell_type": "code",
      "source": [
        "liste_man.append(['Moahamad', 'Zamani', 25])"
      ],
      "metadata": {
        "id": "UTEj1utVv9gj"
      },
      "execution_count": null,
      "outputs": []
    },
    {
      "cell_type": "code",
      "source": [
        "liste_man"
      ],
      "metadata": {
        "colab": {
          "base_uri": "https://localhost:8080/"
        },
        "id": "l_R7S37uwHCT",
        "outputId": "07cbeb10-2771-4016-fb7b-72e3d8c4bad8"
      },
      "execution_count": null,
      "outputs": [
        {
          "output_type": "execute_result",
          "data": {
            "text/plain": [
              "[['peyman', 'vahidi', 24], ['Ali', 'Yazarloo', 22], ['Moahamad', 'Zamani', 25]]"
            ]
          },
          "metadata": {},
          "execution_count": 140
        }
      ]
    },
    {
      "cell_type": "code",
      "source": [
        "type(liste_man)"
      ],
      "metadata": {
        "colab": {
          "base_uri": "https://localhost:8080/"
        },
        "id": "82S4c9GJwH8-",
        "outputId": "5d1fdba8-b53d-4a3e-c044-a2848c41f04f"
      },
      "execution_count": null,
      "outputs": [
        {
          "output_type": "execute_result",
          "data": {
            "text/plain": [
              "list"
            ]
          },
          "metadata": {},
          "execution_count": 142
        }
      ]
    },
    {
      "cell_type": "markdown",
      "source": [
        "Hala mikham be jaye esme khodam ye tohi bezaram oonja, kari ke bayad bokonam ine ke az `[ ]` estefade konam"
      ],
      "metadata": {
        "id": "V_HLFbWLwWEe"
      }
    },
    {
      "cell_type": "code",
      "source": [
        "liste_man[0] = []"
      ],
      "metadata": {
        "id": "EVntg043wKo-"
      },
      "execution_count": null,
      "outputs": []
    },
    {
      "cell_type": "code",
      "source": [
        "liste_man"
      ],
      "metadata": {
        "colab": {
          "base_uri": "https://localhost:8080/"
        },
        "id": "tKSQqQHvwQNo",
        "outputId": "df5ac6e6-5242-40cb-ae46-aec568b2c11c"
      },
      "execution_count": null,
      "outputs": [
        {
          "output_type": "execute_result",
          "data": {
            "text/plain": [
              "[[], ['Ali', 'Yazarloo', 22], ['Moahamad', 'Zamani', 25]]"
            ]
          },
          "metadata": {},
          "execution_count": 148
        }
      ]
    },
    {
      "cell_type": "code",
      "source": [
        "len(liste_man)"
      ],
      "metadata": {
        "colab": {
          "base_uri": "https://localhost:8080/"
        },
        "id": "VUkNcgt2wQ_C",
        "outputId": "9d110eb8-b5aa-41e5-96df-77a6ea34725c"
      },
      "execution_count": null,
      "outputs": [
        {
          "output_type": "execute_result",
          "data": {
            "text/plain": [
              "3"
            ]
          },
          "metadata": {},
          "execution_count": 149
        }
      ]
    },
    {
      "cell_type": "markdown",
      "source": [
        "## Tuples\n",
        "\n",
        "Hala hamin list haro mishe jure dgei nevesht ke behesh migan `tuple`"
      ],
      "metadata": {
        "id": "oajvnh-Lx3GN"
      }
    },
    {
      "cell_type": "code",
      "source": [
        "tuple_man = (2, 4, 6, 8)"
      ],
      "metadata": {
        "id": "JHPbVHtHx5u4"
      },
      "execution_count": null,
      "outputs": []
    },
    {
      "cell_type": "markdown",
      "source": [
        "## Dictionary"
      ],
      "metadata": {
        "id": "GAu0TuNxwh6s"
      }
    },
    {
      "cell_type": "code",
      "source": [
        "dict_man = {'esm': ['peyman','Ali', 'Mohamad'], 'famili': ['vahidi', 'Yazarloo', 'Zamani']}"
      ],
      "metadata": {
        "id": "Kgp5i0iDxNNO"
      },
      "execution_count": null,
      "outputs": []
    },
    {
      "cell_type": "code",
      "source": [
        "dict_man['esm'].append('Nahal')"
      ],
      "metadata": {
        "id": "EwDKnL7uxYJ7"
      },
      "execution_count": null,
      "outputs": []
    },
    {
      "cell_type": "code",
      "source": [
        "dict_man"
      ],
      "metadata": {
        "colab": {
          "base_uri": "https://localhost:8080/"
        },
        "id": "J1lXNvDOxZLY",
        "outputId": "e6e30e91-2629-4a35-e3dc-91009d87e09e"
      },
      "execution_count": null,
      "outputs": [
        {
          "output_type": "execute_result",
          "data": {
            "text/plain": [
              "{'esm': ['peyman', 'Ali', 'Mohamad', 'Nahal'],\n",
              " 'famili': ['vahidi', 'Yazarloo', 'Zamani']}"
            ]
          },
          "metadata": {},
          "execution_count": 167
        }
      ]
    },
    {
      "cell_type": "code",
      "source": [
        "dict_man['famili'].append('Ghazanfari')"
      ],
      "metadata": {
        "id": "fByB6v_IySH-"
      },
      "execution_count": null,
      "outputs": []
    },
    {
      "cell_type": "code",
      "source": [
        "dict_man"
      ],
      "metadata": {
        "colab": {
          "base_uri": "https://localhost:8080/"
        },
        "id": "XeDQaqCIyW2U",
        "outputId": "cc312917-b33e-4c66-9754-aa542fa776fc"
      },
      "execution_count": null,
      "outputs": [
        {
          "output_type": "execute_result",
          "data": {
            "text/plain": [
              "{'esm': ['peyman', 'Ali', 'Mohamad', 'Nahal'],\n",
              " 'famili': ['vahidi', 'Yazarloo', 'Zamani', 'Ghazanfari']}"
            ]
          },
          "metadata": {},
          "execution_count": 169
        }
      ]
    },
    {
      "cell_type": "code",
      "source": [
        "dict_man['esm'][:2]"
      ],
      "metadata": {
        "colab": {
          "base_uri": "https://localhost:8080/"
        },
        "id": "-LwVEe-WyXrF",
        "outputId": "d21d22ec-abe2-45a7-8012-3bf7d4d4071c"
      },
      "execution_count": null,
      "outputs": [
        {
          "output_type": "execute_result",
          "data": {
            "text/plain": [
              "['peyman', 'Ali']"
            ]
          },
          "metadata": {},
          "execution_count": 170
        }
      ]
    },
    {
      "cell_type": "code",
      "source": [
        "dict_man['famili'][:2]"
      ],
      "metadata": {
        "colab": {
          "base_uri": "https://localhost:8080/"
        },
        "id": "PiVElHj2yhc0",
        "outputId": "dddfb18b-74ff-41dd-e53f-32096e7d68ca"
      },
      "execution_count": null,
      "outputs": [
        {
          "output_type": "execute_result",
          "data": {
            "text/plain": [
              "['vahidi', 'Yazarloo']"
            ]
          },
          "metadata": {},
          "execution_count": 171
        }
      ]
    },
    {
      "cell_type": "code",
      "source": [
        "dict_man.keys()"
      ],
      "metadata": {
        "colab": {
          "base_uri": "https://localhost:8080/"
        },
        "id": "9PeutlK7yjIR",
        "outputId": "eb8ceb8e-ddb0-473d-ce76-003f48b5a7bd"
      },
      "execution_count": null,
      "outputs": [
        {
          "output_type": "execute_result",
          "data": {
            "text/plain": [
              "dict_keys(['esm', 'famili'])"
            ]
          },
          "metadata": {},
          "execution_count": 183
        }
      ]
    },
    {
      "cell_type": "code",
      "source": [
        "dict_man.values()"
      ],
      "metadata": {
        "colab": {
          "base_uri": "https://localhost:8080/"
        },
        "id": "rLS5D-GDyku4",
        "outputId": "c3f9b88b-31fd-44b1-ad54-3b734b6ad6b5"
      },
      "execution_count": null,
      "outputs": [
        {
          "output_type": "execute_result",
          "data": {
            "text/plain": [
              "dict_values([['peyman', 'Ali', 'Mohamad', 'Nahal'], ['vahidi', 'Yazarloo', 'Zamani', 'Ghazanfari']])"
            ]
          },
          "metadata": {},
          "execution_count": 181
        }
      ]
    },
    {
      "cell_type": "code",
      "source": [
        ""
      ],
      "metadata": {
        "id": "p5mgufPQzLVk"
      },
      "execution_count": null,
      "outputs": []
    }
  ]
}