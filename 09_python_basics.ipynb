{
  "nbformat": 4,
  "nbformat_minor": 0,
  "metadata": {
    "colab": {
      "name": "09_python_basics.ipynb",
      "provenance": []
    },
    "kernelspec": {
      "name": "python3",
      "display_name": "Python 3"
    },
    "language_info": {
      "name": "python"
    }
  },
  "cells": [
    {
      "cell_type": "code",
      "source": [
        "import random"
      ],
      "metadata": {
        "id": "m2mRthc6Vxol"
      },
      "execution_count": 1,
      "outputs": []
    },
    {
      "cell_type": "code",
      "execution_count": 38,
      "metadata": {
        "id": "01rutk-ATEH0"
      },
      "outputs": [],
      "source": [
        "def bazi():\n",
        "  \"\"\"\n",
        "  Bazi sang - kaghaz - gheichi hast, va mibinim ke shoma\n",
        "  dar moghabele computer barande mishi ya mibazi.\n",
        "  \"\"\"\n",
        "  # Entekhabemoon ro zakhire konim\n",
        "  entekhab_man = input(\"Yeki ro entekhab konid\\n(sang, kaghaz, gheichi): \")\n",
        "\n",
        "  # Be soorate random pc yeki ro entekhab kone\n",
        "  entekhab_pc = random.choice(['sang', 'kaghaz', 'gheichi'])\n",
        "\n",
        "  # Etelaat ro bedim\n",
        "  print(f\"\\nMan: {entekhab_man}\\nPc: {entekhab_pc}\\n\")\n",
        "\n",
        "  # Check konim ki mibare\n",
        "  if (entekhab_man == entekhab_pc):\n",
        "    print(\"Draw\")\n",
        "\n",
        "  elif ((entekhab_man is 'sang') and (entekhab_pc is 'gheichi')) or \\\n",
        "  ((entekhab_man is 'gheichi') and (entekhab_pc is 'kaghaz')) or \\\n",
        "  ((entekhab_man is 'kaghaz') and (entekhab_pc is 'sang')):\n",
        "    print(\"You won\")\n",
        "  \n",
        "  else:\n",
        "    print(\"You lost\")"
      ]
    },
    {
      "cell_type": "code",
      "source": [
        "bazi()"
      ],
      "metadata": {
        "colab": {
          "base_uri": "https://localhost:8080/"
        },
        "id": "HdxtL1twd3GL",
        "outputId": "b17f0734-20c3-4d9c-b502-6cc305dba7db"
      },
      "execution_count": 41,
      "outputs": [
        {
          "output_type": "stream",
          "name": "stdout",
          "text": [
            "Yeki ro entekhab konid\n",
            "(sang, kaghaz, gheichi): \n",
            "\n",
            "Man: \n",
            "Pc: kaghaz\n",
            "\n",
            "You lost\n"
          ]
        }
      ]
    },
    {
      "cell_type": "code",
      "source": [
        "import matplotlib.pyplot as plt\n",
        "import numpy as np"
      ],
      "metadata": {
        "id": "i34CiYTIeTBq"
      },
      "execution_count": 42,
      "outputs": []
    },
    {
      "cell_type": "code",
      "source": [
        "x = np.array([1, 2, 3, 4, 5])\n",
        "y = x ** 2\n",
        "\n",
        "labels = ['1st', '2nd', '3rd', '4th', '5th']"
      ],
      "metadata": {
        "id": "Ytid5f1wfVus"
      },
      "execution_count": 43,
      "outputs": []
    },
    {
      "cell_type": "code",
      "source": [
        "np.arange(5)"
      ],
      "metadata": {
        "colab": {
          "base_uri": "https://localhost:8080/"
        },
        "id": "TSjnBDevlT17",
        "outputId": "57b73f5c-6858-45c8-eec7-8f72177b7fac"
      },
      "execution_count": 44,
      "outputs": [
        {
          "output_type": "execute_result",
          "data": {
            "text/plain": [
              "array([0, 1, 2, 3, 4])"
            ]
          },
          "metadata": {},
          "execution_count": 44
        }
      ]
    },
    {
      "cell_type": "code",
      "source": [
        "plt.plot(x, y, 'g*-');\n",
        "plt.ylabel('Our Y')\n",
        "plt.xlabel('Our X')\n",
        "plt.title('The first example')\n",
        "plt.xticks(x, labels, rotation ='horizontal')\n",
        "plt.grid(color='k', linestyle='dotted', linewidth=1)"
      ],
      "metadata": {
        "colab": {
          "base_uri": "https://localhost:8080/",
          "height": 295
        },
        "id": "Y1lEkCWofhs-",
        "outputId": "3ce55cf6-a6b0-4a99-a3a3-c21d16512832"
      },
      "execution_count": 45,
      "outputs": [
        {
          "output_type": "display_data",
          "data": {
            "text/plain": [
              "<Figure size 432x288 with 1 Axes>"
            ],
            "image/png": "[encoded data removed]"
          },
          "metadata": {
            "needs_background": "light"
          }
        }
      ]
    },
    {
      "cell_type": "code",
      "source": [
        "plt.bar(x, y);\n",
        "plt.figtext(0.17, 0.78,'This is my chart');"
      ],
      "metadata": {
        "colab": {
          "base_uri": "https://localhost:8080/",
          "height": 265
        },
        "id": "zLWtb4Eef0Wy",
        "outputId": "e7a647cb-0e04-4293-8e09-e8d9828f5823"
      },
      "execution_count": 46,
      "outputs": [
        {
          "output_type": "display_data",
          "data": {
            "text/plain": [
              "<Figure size 432x288 with 1 Axes>"
            ],
            "image/png": "[encoded data removed]"
          },
          "metadata": {
            "needs_background": "light"
          }
        }
      ]
    }
  ]
}