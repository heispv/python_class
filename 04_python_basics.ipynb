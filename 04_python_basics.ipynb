{
  "nbformat": 4,
  "nbformat_minor": 0,
  "metadata": {
    "colab": {
      "name": "04_python_basics.ipynb",
      "provenance": []
    },
    "kernelspec": {
      "name": "python3",
      "display_name": "Python 3"
    },
    "language_info": {
      "name": "python"
    }
  },
  "cells": [
    {
      "cell_type": "code",
      "execution_count": null,
      "metadata": {
        "colab": {
          "base_uri": "https://localhost:8080/"
        },
        "id": "qGz27nFzcWNf",
        "outputId": "e5bba80e-f668-4ba1-aa8c-23ef81a5d8e5"
      },
      "outputs": [
        {
          "output_type": "execute_result",
          "data": {
            "text/plain": [
              "{'age:15', 'family:riahi', 'name:romina'}"
            ]
          },
          "metadata": {},
          "execution_count": 8
        }
      ],
      "source": [
        "my_dict_1={\n",
        "    'name:romina',\n",
        "    'family:riahi',\n",
        "    'age:15'\n",
        "}\n",
        "\n",
        "my_dict_1"
      ]
    },
    {
      "cell_type": "code",
      "source": [
        "my_dict_1['age']"
      ],
      "metadata": {
        "colab": {
          "base_uri": "https://localhost:8080/",
          "height": 170
        },
        "id": "oRmBbwTughqO",
        "outputId": "2ede323a-ed57-4f14-8e09-f760bcdaa6ee"
      },
      "execution_count": null,
      "outputs": [
        {
          "output_type": "error",
          "ename": "TypeError",
          "evalue": "ignored",
          "traceback": [
            "\u001b[0;31m---------------------------------------------------------------------------\u001b[0m",
            "\u001b[0;31mTypeError\u001b[0m                                 Traceback (most recent call last)",
            "\u001b[0;32m<ipython-input-14-cb5fd7d9727f>\u001b[0m in \u001b[0;36m<module>\u001b[0;34m()\u001b[0m\n\u001b[0;32m----> 1\u001b[0;31m \u001b[0mmy_dict_1\u001b[0m\u001b[0;34m[\u001b[0m\u001b[0;34m'age'\u001b[0m\u001b[0;34m]\u001b[0m\u001b[0;34m\u001b[0m\u001b[0;34m\u001b[0m\u001b[0m\n\u001b[0m",
            "\u001b[0;31mTypeError\u001b[0m: 'set' object is not subscriptable"
          ]
        }
      ]
    },
    {
      "cell_type": "code",
      "source": [
        "my_dict_2={\n",
        "    'name' : 'romina',\n",
        "    'family' : 'riahi',\n",
        "    'age': 15\n",
        "}\n",
        "\n",
        "my_dict_2"
      ],
      "metadata": {
        "colab": {
          "base_uri": "https://localhost:8080/"
        },
        "id": "s6BwfoSOfJLm",
        "outputId": "d46b52d9-4b5c-4ef5-ac3a-8d68249ca117"
      },
      "execution_count": null,
      "outputs": [
        {
          "output_type": "execute_result",
          "data": {
            "text/plain": [
              "{'age': 15, 'family': 'riahi', 'name': 'romina'}"
            ]
          },
          "metadata": {},
          "execution_count": 9
        }
      ]
    },
    {
      "cell_type": "code",
      "source": [
        "my_dict_2['age']"
      ],
      "metadata": {
        "colab": {
          "base_uri": "https://localhost:8080/"
        },
        "id": "lBertvYvgap0",
        "outputId": "446636fb-3e5f-431c-aad9-8d7ef7b9afde"
      },
      "execution_count": null,
      "outputs": [
        {
          "output_type": "execute_result",
          "data": {
            "text/plain": [
              "15"
            ]
          },
          "metadata": {},
          "execution_count": 11
        }
      ]
    },
    {
      "cell_type": "code",
      "source": [
        "import matplotlib.pyplot as plt"
      ],
      "metadata": {
        "id": "AYs27w1Ejyv_"
      },
      "execution_count": null,
      "outputs": []
    },
    {
      "cell_type": "code",
      "source": [
        "from random import randrange"
      ],
      "metadata": {
        "id": "ITWmJWoQgpW6"
      },
      "execution_count": null,
      "outputs": []
    },
    {
      "cell_type": "code",
      "source": [
        "randrange(50, 100, 5)"
      ],
      "metadata": {
        "colab": {
          "base_uri": "https://localhost:8080/"
        },
        "id": "XMlT0RPXkS_Y",
        "outputId": "268ca17a-eec7-4ac6-f520-0ecea443aa89"
      },
      "execution_count": null,
      "outputs": [
        {
          "output_type": "execute_result",
          "data": {
            "text/plain": [
              "75"
            ]
          },
          "metadata": {},
          "execution_count": 62
        }
      ]
    },
    {
      "cell_type": "code",
      "source": [
        "help(randrange)"
      ],
      "metadata": {
        "colab": {
          "base_uri": "https://localhost:8080/"
        },
        "id": "2cGWphFFjBJW",
        "outputId": "3b055d5e-563d-4084-9ee9-899c62f96183"
      },
      "execution_count": null,
      "outputs": [
        {
          "output_type": "stream",
          "name": "stdout",
          "text": [
            "Help on method randrange in module random:\n",
            "\n",
            "randrange(start, stop=None, step=1, _int=<class 'int'>) method of random.Random instance\n",
            "    Choose a random item from range(start, stop[, step]).\n",
            "    \n",
            "    This fixes the problem with randint() which includes the\n",
            "    endpoint; in Python this is usually not what you want.\n",
            "\n"
          ]
        }
      ]
    },
    {
      "cell_type": "code",
      "source": [
        "import random\n",
        "random.uniform(0, 1)"
      ],
      "metadata": {
        "colab": {
          "base_uri": "https://localhost:8080/"
        },
        "id": "LDcA5nHgjSEu",
        "outputId": "4802a42c-5109-4c9e-c51d-57ae54d1a650"
      },
      "execution_count": null,
      "outputs": [
        {
          "output_type": "execute_result",
          "data": {
            "text/plain": [
              "0.13903316751233818"
            ]
          },
          "metadata": {},
          "execution_count": 69
        }
      ]
    },
    {
      "cell_type": "markdown",
      "source": [
        "## Continue"
      ],
      "metadata": {
        "id": "K5crJ0e4nVTH"
      }
    },
    {
      "cell_type": "code",
      "source": [
        "mive = ['sib', 'salam', 'hulu']\n",
        "\n",
        "for i in mive:\n",
        "\n",
        "  if i == 'salam':\n",
        "    print(\"Residim be kalame salam\")\n",
        "    continue\n",
        "  \n",
        "  print(f'Kalamamoon {i} ast')"
      ],
      "metadata": {
        "colab": {
          "base_uri": "https://localhost:8080/"
        },
        "id": "Jzyn7LWvlXAZ",
        "outputId": "b3f4ade8-42d1-4da3-98f0-b7ecb6a581ab"
      },
      "execution_count": null,
      "outputs": [
        {
          "output_type": "stream",
          "name": "stdout",
          "text": [
            "Kalamamoon sib ast\n",
            "Residim be kalame salam\n",
            "Kalamamoon hulu ast\n"
          ]
        }
      ]
    },
    {
      "cell_type": "markdown",
      "source": [
        "## break\n",
        "agar biaim va az break estefade konim dar asl zamani ke halghe be oonja resid, halghe kollan mishkane va az oon kharej mishim."
      ],
      "metadata": {
        "id": "NEXgmF2InUuV"
      }
    },
    {
      "cell_type": "code",
      "source": [
        "cars = ['bmw', 'benz', 'ford', 'chevrolet', 'jaguar']\n",
        "\n",
        "for car in cars:\n",
        "  if car == 'ford':\n",
        "    print('Mashine morede nazar peyda shod')\n",
        "    break\n",
        "\n",
        "  else:\n",
        "    print(f'mashini ke alan peyda shod {car} ast')"
      ],
      "metadata": {
        "colab": {
          "base_uri": "https://localhost:8080/"
        },
        "id": "9udOilsvopJH",
        "outputId": "c55c0d1d-e383-447d-cd93-d544801520f6"
      },
      "execution_count": null,
      "outputs": [
        {
          "output_type": "stream",
          "name": "stdout",
          "text": [
            "mashini ke alan peyda shod bmw ast\n",
            "mashini ke alan peyda shod benz ast\n",
            "Mashine morede nazar peyda shod\n"
          ]
        }
      ]
    },
    {
      "cell_type": "markdown",
      "source": [
        "## Range\n",
        "shoma mitoonin biain va az range estefade bokonin ta be python yek range az adad ro bedin."
      ],
      "metadata": {
        "id": "YUDvqBwIpYub"
      }
    },
    {
      "cell_type": "code",
      "source": [
        "for i in range(20):\n",
        "  if i % 5 == 0:\n",
        "    print(i)"
      ],
      "metadata": {
        "colab": {
          "base_uri": "https://localhost:8080/"
        },
        "id": "8TKWu1kiqCH-",
        "outputId": "258da875-7fc4-43e3-e760-d1779e62c8b4"
      },
      "execution_count": null,
      "outputs": [
        {
          "output_type": "stream",
          "name": "stdout",
          "text": [
            "0\n",
            "5\n",
            "10\n",
            "15\n"
          ]
        }
      ]
    },
    {
      "cell_type": "code",
      "source": [
        "range(10)"
      ],
      "metadata": {
        "colab": {
          "base_uri": "https://localhost:8080/"
        },
        "id": "GgbvQHj_rjrn",
        "outputId": "52a2787a-dce9-47eb-9bc7-80b0b116a8a8"
      },
      "execution_count": null,
      "outputs": [
        {
          "output_type": "execute_result",
          "data": {
            "text/plain": [
              "range(0, 10)"
            ]
          },
          "metadata": {},
          "execution_count": 90
        }
      ]
    },
    {
      "cell_type": "code",
      "source": [
        "[num for num in range(10, 22, 2)]"
      ],
      "metadata": {
        "colab": {
          "base_uri": "https://localhost:8080/"
        },
        "id": "1H8a67afqTCD",
        "outputId": "bdc01000-d859-4fbc-c5dd-b11e6c0b7e84"
      },
      "execution_count": null,
      "outputs": [
        {
          "output_type": "execute_result",
          "data": {
            "text/plain": [
              "[10, 12, 14, 16, 18, 20]"
            ]
          },
          "metadata": {},
          "execution_count": 94
        }
      ]
    },
    {
      "cell_type": "markdown",
      "source": [
        "> `input` chie va chegoone az oon mitoonim dar python estefade konim"
      ],
      "metadata": {
        "id": "aePpO5ztrJAp"
      }
    },
    {
      "cell_type": "code",
      "source": [
        "name = input('Enter your name: ')\n",
        "\n",
        "#Reference: http://www.easypythondocs.com/input.html"
      ],
      "metadata": {
        "colab": {
          "base_uri": "https://localhost:8080/"
        },
        "id": "5IMh_-HfsYCR",
        "outputId": "7b554a09-0a1e-46b4-8d65-d54ed68bb23d"
      },
      "execution_count": null,
      "outputs": [
        {
          "name": "stdout",
          "output_type": "stream",
          "text": [
            "Enter your name: peyman\n"
          ]
        }
      ]
    },
    {
      "cell_type": "code",
      "source": [
        "name"
      ],
      "metadata": {
        "colab": {
          "base_uri": "https://localhost:8080/",
          "height": 36
        },
        "id": "8KCTYzm0tYZW",
        "outputId": "bbfe284b-fe8a-4f01-e4c0-09558aa4e818"
      },
      "execution_count": null,
      "outputs": [
        {
          "output_type": "execute_result",
          "data": {
            "text/plain": [
              "'peyman'"
            ],
            "application/vnd.google.colaboratory.intrinsic+json": {
              "type": "string"
            }
          },
          "metadata": {},
          "execution_count": 97
        }
      ]
    },
    {
      "cell_type": "code",
      "source": [
        "name = input('Enter your first name please: ')\n",
        "\n",
        "if name == 'peyman':\n",
        "  print(\"Hello peyman...\")\n",
        "  family = input('Please also enter you family name: ')\n",
        "  if family == 'vahidi':\n",
        "    print(\"welcome\")\n",
        "  else:\n",
        "    print(\"Unfortunatelly, family name doesn't match the information\")\n",
        "else:\n",
        "  print(\"Access denied...\")"
      ],
      "metadata": {
        "colab": {
          "base_uri": "https://localhost:8080/"
        },
        "id": "LM4TAHtttbDa",
        "outputId": "0b331a4c-02f1-4af4-f279-eee0efda76d1"
      },
      "execution_count": null,
      "outputs": [
        {
          "output_type": "stream",
          "name": "stdout",
          "text": [
            "Enter your first name please: mohamad\n",
            "Access denied...\n"
          ]
        }
      ]
    },
    {
      "cell_type": "markdown",
      "source": [
        "baraye jalase bad:\n",
        "1. Az shoma esm gerefte mishe\n",
        "2. bad az inke esm gerefte shod az shoma family gerefte mishe\n",
        "3. azatoon porside mishe ke mikhain senetoon ro ham ezafe konin ya na\n",
        "4. agar javab mosbat bood sen ham ezafe mishe\n",
        "5. dar enteha hame etelaat zakhire shode va be onvane yek dict dar khurji namayesh dade mishe."
      ],
      "metadata": {
        "id": "jXY1_XYwt0SE"
      }
    },
    {
      "cell_type": "markdown",
      "source": [
        "Azatoon mikham ke hatman baraye ghesmate 1 ta 3 az method `input` estefade konid."
      ],
      "metadata": {
        "id": "EblED6nFvSr1"
      }
    },
    {
      "cell_type": "markdown",
      "source": [
        "1. agar sen ham gereftim -> {'name': 'peyman', 'family': 'vahidi', 'age' : 24}\n",
        "2. agar sen nagereftim -> {'name': 'peyman', 'family': 'vahidi'}"
      ],
      "metadata": {
        "id": "pfxPNg3hvByl"
      }
    }
  ]
}